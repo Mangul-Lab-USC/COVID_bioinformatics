{
 "cells": [
  {
   "cell_type": "code",
   "execution_count": 479,
   "metadata": {},
   "outputs": [],
   "source": [
    "import pandas as pd\n",
    "import numpy as np\n",
    "import matplotlib as plt"
   ]
  },
  {
   "cell_type": "code",
   "execution_count": 480,
   "metadata": {},
   "outputs": [
    {
     "name": "stderr",
     "output_type": "stream",
     "text": [
      "/Users/macos/miniconda3/lib/python3.8/site-packages/IPython/core/interactiveshell.py:3441: DtypeWarning: Columns (16) have mixed types.Specify dtype option on import or set low_memory=False.\n",
      "  exec(code_obj, self.user_global_ns, self.user_ns)\n"
     ]
    }
   ],
   "source": [
    "df=pd.read_csv('/Users/macos/Downloads/metadata_tsv_2021_12_19/metadata.tsv', sep='\\t',header=0, on_bad_lines='skip')"
   ]
  },
  {
   "cell_type": "code",
   "execution_count": 481,
   "metadata": {},
   "outputs": [],
   "source": [
    "df_new=df['Location'].str.split(\"/\", expand=True)"
   ]
  },
  {
   "cell_type": "code",
   "execution_count": 482,
   "metadata": {},
   "outputs": [],
   "source": [
    "countries=df_new[1]"
   ]
  },
  {
   "cell_type": "code",
   "execution_count": 483,
   "metadata": {},
   "outputs": [],
   "source": [
    "df = df[['Submission date']]"
   ]
  },
  {
   "cell_type": "code",
   "execution_count": 484,
   "metadata": {},
   "outputs": [],
   "source": [
    "continent=df_new[0]"
   ]
  },
  {
   "cell_type": "code",
   "execution_count": 485,
   "metadata": {},
   "outputs": [],
   "source": [
    "df=df.sort_values(by='Submission date')\n",
    "df= df.reset_index(drop=True)"
   ]
  },
  {
   "cell_type": "code",
   "execution_count": 486,
   "metadata": {},
   "outputs": [],
   "source": [
    "df['Submission date'] = pd.to_datetime(df['Submission date'], format='%Y-%m-%d', errors='coerce')"
   ]
  },
  {
   "cell_type": "code",
   "execution_count": 487,
   "metadata": {},
   "outputs": [],
   "source": [
    "df['Month'] = df['Submission date'].dt.strftime('%m-%y')"
   ]
  },
  {
   "cell_type": "code",
   "execution_count": 488,
   "metadata": {},
   "outputs": [],
   "source": [
    "df[\"region\"]=continent"
   ]
  },
  {
   "cell_type": "code",
   "execution_count": 489,
   "metadata": {},
   "outputs": [],
   "source": [
    "df.region = df.region.str.replace(' ', '')"
   ]
  },
  {
   "cell_type": "code",
   "execution_count": 490,
   "metadata": {},
   "outputs": [],
   "source": [
    "df1=df\n",
    "df_new=df\n",
    "df_new[\"Country\"]=countries"
   ]
  },
  {
   "cell_type": "code",
   "execution_count": 491,
   "metadata": {},
   "outputs": [
    {
     "data": {
      "text/html": [
       "<div>\n",
       "<style scoped>\n",
       "    .dataframe tbody tr th:only-of-type {\n",
       "        vertical-align: middle;\n",
       "    }\n",
       "\n",
       "    .dataframe tbody tr th {\n",
       "        vertical-align: top;\n",
       "    }\n",
       "\n",
       "    .dataframe thead th {\n",
       "        text-align: right;\n",
       "    }\n",
       "</style>\n",
       "<table border=\"1\" class=\"dataframe\">\n",
       "  <thead>\n",
       "    <tr style=\"text-align: right;\">\n",
       "      <th></th>\n",
       "      <th>Submission date</th>\n",
       "      <th>Month</th>\n",
       "      <th>region</th>\n",
       "      <th>Country</th>\n",
       "    </tr>\n",
       "  </thead>\n",
       "  <tbody>\n",
       "    <tr>\n",
       "      <th>0</th>\n",
       "      <td>2020-01-10</td>\n",
       "      <td>01-20</td>\n",
       "      <td>Europe</td>\n",
       "      <td>Bulgaria</td>\n",
       "    </tr>\n",
       "    <tr>\n",
       "      <th>1</th>\n",
       "      <td>2020-01-10</td>\n",
       "      <td>01-20</td>\n",
       "      <td>Europe</td>\n",
       "      <td>Bulgaria</td>\n",
       "    </tr>\n",
       "    <tr>\n",
       "      <th>2</th>\n",
       "      <td>2020-01-11</td>\n",
       "      <td>01-20</td>\n",
       "      <td>Europe</td>\n",
       "      <td>Bulgaria</td>\n",
       "    </tr>\n",
       "    <tr>\n",
       "      <th>3</th>\n",
       "      <td>2020-01-11</td>\n",
       "      <td>01-20</td>\n",
       "      <td>Europe</td>\n",
       "      <td>Bulgaria</td>\n",
       "    </tr>\n",
       "    <tr>\n",
       "      <th>4</th>\n",
       "      <td>2020-01-11</td>\n",
       "      <td>01-20</td>\n",
       "      <td>Europe</td>\n",
       "      <td>United Kingdom</td>\n",
       "    </tr>\n",
       "    <tr>\n",
       "      <th>...</th>\n",
       "      <td>...</td>\n",
       "      <td>...</td>\n",
       "      <td>...</td>\n",
       "      <td>...</td>\n",
       "    </tr>\n",
       "    <tr>\n",
       "      <th>6246646</th>\n",
       "      <td>2021-12-18</td>\n",
       "      <td>12-21</td>\n",
       "      <td>Europe</td>\n",
       "      <td>United Kingdom</td>\n",
       "    </tr>\n",
       "    <tr>\n",
       "      <th>6246647</th>\n",
       "      <td>2021-12-18</td>\n",
       "      <td>12-21</td>\n",
       "      <td>Europe</td>\n",
       "      <td>United Kingdom</td>\n",
       "    </tr>\n",
       "    <tr>\n",
       "      <th>6246648</th>\n",
       "      <td>2021-12-18</td>\n",
       "      <td>12-21</td>\n",
       "      <td>Europe</td>\n",
       "      <td>Sweden</td>\n",
       "    </tr>\n",
       "    <tr>\n",
       "      <th>6246649</th>\n",
       "      <td>2021-12-18</td>\n",
       "      <td>12-21</td>\n",
       "      <td>Europe</td>\n",
       "      <td>United Kingdom</td>\n",
       "    </tr>\n",
       "    <tr>\n",
       "      <th>6246650</th>\n",
       "      <td>2021-12-18</td>\n",
       "      <td>12-21</td>\n",
       "      <td>Europe</td>\n",
       "      <td>United Kingdom</td>\n",
       "    </tr>\n",
       "  </tbody>\n",
       "</table>\n",
       "<p>6246651 rows × 4 columns</p>\n",
       "</div>"
      ],
      "text/plain": [
       "        Submission date  Month  region           Country\n",
       "0            2020-01-10  01-20  Europe         Bulgaria \n",
       "1            2020-01-10  01-20  Europe         Bulgaria \n",
       "2            2020-01-11  01-20  Europe         Bulgaria \n",
       "3            2020-01-11  01-20  Europe         Bulgaria \n",
       "4            2020-01-11  01-20  Europe   United Kingdom \n",
       "...                 ...    ...     ...               ...\n",
       "6246646      2021-12-18  12-21  Europe   United Kingdom \n",
       "6246647      2021-12-18  12-21  Europe   United Kingdom \n",
       "6246648      2021-12-18  12-21  Europe           Sweden \n",
       "6246649      2021-12-18  12-21  Europe   United Kingdom \n",
       "6246650      2021-12-18  12-21  Europe   United Kingdom \n",
       "\n",
       "[6246651 rows x 4 columns]"
      ]
     },
     "execution_count": 491,
     "metadata": {},
     "output_type": "execute_result"
    }
   ],
   "source": [
    "df_new"
   ]
  },
  {
   "cell_type": "code",
   "execution_count": 492,
   "metadata": {},
   "outputs": [],
   "source": [
    "df_new.Country = df_new.Country.str.replace(' ', '')"
   ]
  },
  {
   "cell_type": "code",
   "execution_count": 494,
   "metadata": {},
   "outputs": [
    {
     "data": {
      "text/plain": [
       "USA               1958671\n",
       "UnitedKingdom     1504435\n",
       "Germany            308516\n",
       "Denmark            259387\n",
       "Canada             225860\n",
       "                   ...   \n",
       "SintEustatius           4\n",
       "England                 3\n",
       "Vanuatu                 2\n",
       "Palau                   2\n",
       "SlovakRepublic          1\n",
       "Name: Country, Length: 208, dtype: int64"
      ]
     },
     "execution_count": 494,
     "metadata": {},
     "output_type": "execute_result"
    }
   ],
   "source": [
    "df_new.Country.value_counts()"
   ]
  },
  {
   "cell_type": "code",
   "execution_count": 496,
   "metadata": {},
   "outputs": [],
   "source": [
    "df_new.Country.value_counts().reset_index().to_csv('value_counts.csv')"
   ]
  },
  {
   "cell_type": "code",
   "execution_count": 497,
   "metadata": {},
   "outputs": [],
   "source": [
    "df_Asia = df[df['region'] == \"Asia\"]\n",
    "df_Oceania = df[df['region'] == \"Oceania\"]\n",
    "df_NA = df[df['region'] == \"NorthAmerica\"]\n",
    "df_Europe = df[df['region'] == \"Europe\"]\n",
    "df_Africa = df[df['region'] == \"Africa\"]\n",
    "df_SA = df[df['region'] == \"SouthAmerica\"]"
   ]
  },
  {
   "cell_type": "code",
   "execution_count": 498,
   "metadata": {},
   "outputs": [],
   "source": [
    "df[\"region\"]=df[\"region\"].astype(\"string\")"
   ]
  },
  {
   "cell_type": "code",
   "execution_count": 499,
   "metadata": {},
   "outputs": [
    {
     "data": {
      "text/plain": [
       "Submission date    datetime64[ns]\n",
       "Month                      object\n",
       "region                     string\n",
       "Country                    object\n",
       "dtype: object"
      ]
     },
     "execution_count": 499,
     "metadata": {},
     "output_type": "execute_result"
    }
   ],
   "source": [
    "df.dtypes"
   ]
  },
  {
   "cell_type": "code",
   "execution_count": 502,
   "metadata": {},
   "outputs": [],
   "source": [
    "df[\"index\"]=df.index"
   ]
  },
  {
   "cell_type": "code",
   "execution_count": 503,
   "metadata": {},
   "outputs": [],
   "source": [
    "df_Asia= df_Asia.reset_index(drop=True)\n",
    "df_Asia[\"index\"]=df_Asia.index\n",
    "df_Oceania=df_Oceania.reset_index(drop=True)\n",
    "df_Oceania[\"index\"]=df_Oceania.index\n",
    "df_NA=df_NA.reset_index(drop=True)\n",
    "df_NA[\"index\"]=df_NA.index\n",
    "df_Europe=df_Europe.reset_index(drop=True)\n",
    "df_Europe[\"index\"]=df_Europe.index\n",
    "df_Africa=df_Africa.reset_index(drop=True)\n",
    "df_Africa[\"index\"]=df_Africa.index\n",
    "df_SA=df_SA.reset_index(drop=True)\n",
    "df_SA[\"index\"]=df_SA.index"
   ]
  },
  {
   "cell_type": "code",
   "execution_count": 504,
   "metadata": {},
   "outputs": [
    {
     "data": {
      "text/html": [
       "<div>\n",
       "<style scoped>\n",
       "    .dataframe tbody tr th:only-of-type {\n",
       "        vertical-align: middle;\n",
       "    }\n",
       "\n",
       "    .dataframe tbody tr th {\n",
       "        vertical-align: top;\n",
       "    }\n",
       "\n",
       "    .dataframe thead th {\n",
       "        text-align: right;\n",
       "    }\n",
       "</style>\n",
       "<table border=\"1\" class=\"dataframe\">\n",
       "  <thead>\n",
       "    <tr style=\"text-align: right;\">\n",
       "      <th></th>\n",
       "      <th>Submission date</th>\n",
       "      <th>Month</th>\n",
       "      <th>region</th>\n",
       "      <th>Country</th>\n",
       "      <th>index</th>\n",
       "    </tr>\n",
       "  </thead>\n",
       "  <tbody>\n",
       "    <tr>\n",
       "      <th>0</th>\n",
       "      <td>2020-03-06</td>\n",
       "      <td>03-20</td>\n",
       "      <td>Asia</td>\n",
       "      <td>Malaysia</td>\n",
       "      <td>0</td>\n",
       "    </tr>\n",
       "    <tr>\n",
       "      <th>1</th>\n",
       "      <td>2020-03-06</td>\n",
       "      <td>03-20</td>\n",
       "      <td>Asia</td>\n",
       "      <td>Malaysia</td>\n",
       "      <td>1</td>\n",
       "    </tr>\n",
       "    <tr>\n",
       "      <th>2</th>\n",
       "      <td>2020-03-07</td>\n",
       "      <td>03-20</td>\n",
       "      <td>Asia</td>\n",
       "      <td>Malaysia</td>\n",
       "      <td>2</td>\n",
       "    </tr>\n",
       "    <tr>\n",
       "      <th>3</th>\n",
       "      <td>2020-03-07</td>\n",
       "      <td>03-20</td>\n",
       "      <td>Asia</td>\n",
       "      <td>Malaysia</td>\n",
       "      <td>3</td>\n",
       "    </tr>\n",
       "    <tr>\n",
       "      <th>4</th>\n",
       "      <td>2020-03-07</td>\n",
       "      <td>03-20</td>\n",
       "      <td>Asia</td>\n",
       "      <td>Malaysia</td>\n",
       "      <td>4</td>\n",
       "    </tr>\n",
       "    <tr>\n",
       "      <th>...</th>\n",
       "      <td>...</td>\n",
       "      <td>...</td>\n",
       "      <td>...</td>\n",
       "      <td>...</td>\n",
       "      <td>...</td>\n",
       "    </tr>\n",
       "    <tr>\n",
       "      <th>421994</th>\n",
       "      <td>2021-12-18</td>\n",
       "      <td>12-21</td>\n",
       "      <td>Asia</td>\n",
       "      <td>India</td>\n",
       "      <td>421994</td>\n",
       "    </tr>\n",
       "    <tr>\n",
       "      <th>421995</th>\n",
       "      <td>2021-12-18</td>\n",
       "      <td>12-21</td>\n",
       "      <td>Asia</td>\n",
       "      <td>India</td>\n",
       "      <td>421995</td>\n",
       "    </tr>\n",
       "    <tr>\n",
       "      <th>421996</th>\n",
       "      <td>2021-12-18</td>\n",
       "      <td>12-21</td>\n",
       "      <td>Asia</td>\n",
       "      <td>India</td>\n",
       "      <td>421996</td>\n",
       "    </tr>\n",
       "    <tr>\n",
       "      <th>421997</th>\n",
       "      <td>2021-12-18</td>\n",
       "      <td>12-21</td>\n",
       "      <td>Asia</td>\n",
       "      <td>India</td>\n",
       "      <td>421997</td>\n",
       "    </tr>\n",
       "    <tr>\n",
       "      <th>421998</th>\n",
       "      <td>2021-12-18</td>\n",
       "      <td>12-21</td>\n",
       "      <td>Asia</td>\n",
       "      <td>India</td>\n",
       "      <td>421998</td>\n",
       "    </tr>\n",
       "  </tbody>\n",
       "</table>\n",
       "<p>421999 rows × 5 columns</p>\n",
       "</div>"
      ],
      "text/plain": [
       "       Submission date  Month region   Country   index\n",
       "0           2020-03-06  03-20   Asia  Malaysia       0\n",
       "1           2020-03-06  03-20   Asia  Malaysia       1\n",
       "2           2020-03-07  03-20   Asia  Malaysia       2\n",
       "3           2020-03-07  03-20   Asia  Malaysia       3\n",
       "4           2020-03-07  03-20   Asia  Malaysia       4\n",
       "...                ...    ...    ...       ...     ...\n",
       "421994      2021-12-18  12-21   Asia     India  421994\n",
       "421995      2021-12-18  12-21   Asia     India  421995\n",
       "421996      2021-12-18  12-21   Asia     India  421996\n",
       "421997      2021-12-18  12-21   Asia     India  421997\n",
       "421998      2021-12-18  12-21   Asia     India  421998\n",
       "\n",
       "[421999 rows x 5 columns]"
      ]
     },
     "execution_count": 504,
     "metadata": {},
     "output_type": "execute_result"
    }
   ],
   "source": [
    "df_Asia"
   ]
  },
  {
   "cell_type": "code",
   "execution_count": 505,
   "metadata": {},
   "outputs": [
    {
     "name": "stdout",
     "output_type": "stream",
     "text": [
      "24\n",
      "22\n",
      "23\n",
      "24\n",
      "23\n",
      "24\n",
      "22\n"
     ]
    }
   ],
   "source": [
    "print(df['Month'].nunique())\n",
    "print(df_Asia['Month'].nunique())\n",
    "print(df_Oceania['Month'].nunique())\n",
    "print(df_NA['Month'].nunique())\n",
    "print(df_SA['Month'].nunique())\n",
    "print(df_Europe['Month'].nunique())\n",
    "print(df_Africa['Month'].nunique())"
   ]
  },
  {
   "cell_type": "code",
   "execution_count": 506,
   "metadata": {},
   "outputs": [],
   "source": [
    "df=df.drop_duplicates(subset='Submission date', keep=\"last\")\n",
    "df_Asia=df_Asia.drop_duplicates(subset='Submission date', keep=\"last\")\n",
    "df_Europe=df_Europe.drop_duplicates(subset='Submission date', keep=\"last\")\n",
    "df_Africa=df_Africa.drop_duplicates(subset='Submission date', keep=\"last\")\n",
    "df_NA=df_NA.drop_duplicates(subset='Submission date', keep=\"last\")\n",
    "df_SA=df_SA.drop_duplicates(subset='Submission date', keep=\"last\")\n",
    "df_Oceania=df_Oceania.drop_duplicates(subset='Submission date', keep=\"last\")"
   ]
  },
  {
   "cell_type": "code",
   "execution_count": 507,
   "metadata": {},
   "outputs": [
    {
     "data": {
      "text/html": [
       "<div>\n",
       "<style scoped>\n",
       "    .dataframe tbody tr th:only-of-type {\n",
       "        vertical-align: middle;\n",
       "    }\n",
       "\n",
       "    .dataframe tbody tr th {\n",
       "        vertical-align: top;\n",
       "    }\n",
       "\n",
       "    .dataframe thead th {\n",
       "        text-align: right;\n",
       "    }\n",
       "</style>\n",
       "<table border=\"1\" class=\"dataframe\">\n",
       "  <thead>\n",
       "    <tr style=\"text-align: right;\">\n",
       "      <th></th>\n",
       "      <th>Submission date</th>\n",
       "      <th>Month</th>\n",
       "      <th>region</th>\n",
       "      <th>Country</th>\n",
       "      <th>index</th>\n",
       "    </tr>\n",
       "  </thead>\n",
       "  <tbody>\n",
       "    <tr>\n",
       "      <th>1</th>\n",
       "      <td>2020-03-06</td>\n",
       "      <td>03-20</td>\n",
       "      <td>Asia</td>\n",
       "      <td>Malaysia</td>\n",
       "      <td>1</td>\n",
       "    </tr>\n",
       "    <tr>\n",
       "      <th>5</th>\n",
       "      <td>2020-03-07</td>\n",
       "      <td>03-20</td>\n",
       "      <td>Asia</td>\n",
       "      <td>Malaysia</td>\n",
       "      <td>5</td>\n",
       "    </tr>\n",
       "    <tr>\n",
       "      <th>6</th>\n",
       "      <td>2020-03-08</td>\n",
       "      <td>03-20</td>\n",
       "      <td>Asia</td>\n",
       "      <td>Malaysia</td>\n",
       "      <td>6</td>\n",
       "    </tr>\n",
       "    <tr>\n",
       "      <th>9</th>\n",
       "      <td>2020-03-09</td>\n",
       "      <td>03-20</td>\n",
       "      <td>Asia</td>\n",
       "      <td>Malaysia</td>\n",
       "      <td>9</td>\n",
       "    </tr>\n",
       "    <tr>\n",
       "      <th>17</th>\n",
       "      <td>2020-03-13</td>\n",
       "      <td>03-20</td>\n",
       "      <td>Asia</td>\n",
       "      <td>Japan</td>\n",
       "      <td>17</td>\n",
       "    </tr>\n",
       "    <tr>\n",
       "      <th>...</th>\n",
       "      <td>...</td>\n",
       "      <td>...</td>\n",
       "      <td>...</td>\n",
       "      <td>...</td>\n",
       "      <td>...</td>\n",
       "    </tr>\n",
       "    <tr>\n",
       "      <th>409372</th>\n",
       "      <td>2021-12-14</td>\n",
       "      <td>12-21</td>\n",
       "      <td>Asia</td>\n",
       "      <td>Japan</td>\n",
       "      <td>409372</td>\n",
       "    </tr>\n",
       "    <tr>\n",
       "      <th>413698</th>\n",
       "      <td>2021-12-15</td>\n",
       "      <td>12-21</td>\n",
       "      <td>Asia</td>\n",
       "      <td>India</td>\n",
       "      <td>413698</td>\n",
       "    </tr>\n",
       "    <tr>\n",
       "      <th>417354</th>\n",
       "      <td>2021-12-16</td>\n",
       "      <td>12-21</td>\n",
       "      <td>Asia</td>\n",
       "      <td>India</td>\n",
       "      <td>417354</td>\n",
       "    </tr>\n",
       "    <tr>\n",
       "      <th>421456</th>\n",
       "      <td>2021-12-17</td>\n",
       "      <td>12-21</td>\n",
       "      <td>Asia</td>\n",
       "      <td>Indonesia</td>\n",
       "      <td>421456</td>\n",
       "    </tr>\n",
       "    <tr>\n",
       "      <th>421998</th>\n",
       "      <td>2021-12-18</td>\n",
       "      <td>12-21</td>\n",
       "      <td>Asia</td>\n",
       "      <td>India</td>\n",
       "      <td>421998</td>\n",
       "    </tr>\n",
       "  </tbody>\n",
       "</table>\n",
       "<p>601 rows × 5 columns</p>\n",
       "</div>"
      ],
      "text/plain": [
       "       Submission date  Month region    Country   index\n",
       "1           2020-03-06  03-20   Asia   Malaysia       1\n",
       "5           2020-03-07  03-20   Asia   Malaysia       5\n",
       "6           2020-03-08  03-20   Asia   Malaysia       6\n",
       "9           2020-03-09  03-20   Asia   Malaysia       9\n",
       "17          2020-03-13  03-20   Asia      Japan      17\n",
       "...                ...    ...    ...        ...     ...\n",
       "409372      2021-12-14  12-21   Asia      Japan  409372\n",
       "413698      2021-12-15  12-21   Asia      India  413698\n",
       "417354      2021-12-16  12-21   Asia      India  417354\n",
       "421456      2021-12-17  12-21   Asia  Indonesia  421456\n",
       "421998      2021-12-18  12-21   Asia      India  421998\n",
       "\n",
       "[601 rows x 5 columns]"
      ]
     },
     "execution_count": 507,
     "metadata": {},
     "output_type": "execute_result"
    }
   ],
   "source": [
    "df_Asia"
   ]
  },
  {
   "cell_type": "code",
   "execution_count": 508,
   "metadata": {},
   "outputs": [
    {
     "name": "stderr",
     "output_type": "stream",
     "text": [
      "/var/folders/q9/26n4cqmn2jq2ldd84q1459cm0000gn/T/ipykernel_3849/4093198121.py:1: SettingWithCopyWarning: \n",
      "A value is trying to be set on a copy of a slice from a DataFrame.\n",
      "Try using .loc[row_indexer,col_indexer] = value instead\n",
      "\n",
      "See the caveats in the documentation: https://pandas.pydata.org/pandas-docs/stable/user_guide/indexing.html#returning-a-view-versus-a-copy\n",
      "  df['daily']=df['index'].diff()\n",
      "/Users/macos/miniconda3/lib/python3.8/site-packages/pandas/core/generic.py:6392: SettingWithCopyWarning: \n",
      "A value is trying to be set on a copy of a slice from a DataFrame\n",
      "\n",
      "See the caveats in the documentation: https://pandas.pydata.org/pandas-docs/stable/user_guide/indexing.html#returning-a-view-versus-a-copy\n",
      "  return self._update_inplace(result)\n",
      "/var/folders/q9/26n4cqmn2jq2ldd84q1459cm0000gn/T/ipykernel_3849/4093198121.py:3: SettingWithCopyWarning: \n",
      "A value is trying to be set on a copy of a slice from a DataFrame.\n",
      "Try using .loc[row_indexer,col_indexer] = value instead\n",
      "\n",
      "See the caveats in the documentation: https://pandas.pydata.org/pandas-docs/stable/user_guide/indexing.html#returning-a-view-versus-a-copy\n",
      "  df_Asia['daily']=df_Asia['index'].diff()\n"
     ]
    }
   ],
   "source": [
    "df['daily']=df['index'].diff()\n",
    "df['daily'].fillna(df.iloc[0]['index'], inplace=True)\n",
    "df_Asia['daily']=df_Asia['index'].diff()\n",
    "df_Asia['daily'].fillna(df_Asia.iloc[0]['index'], inplace=True)\n",
    "df_Europe['daily']=df_Europe['index'].diff()\n",
    "df_Europe['daily'].fillna(df_Europe.iloc[0]['index'], inplace=True)\n",
    "df_Africa['daily']=df_Africa['index'].diff()\n",
    "df_Africa['daily'].fillna(df_Africa.iloc[0]['index'], inplace=True)\n",
    "df_NA['daily']=df_NA['index'].diff()\n",
    "df_NA['daily'].fillna(df_NA.iloc[0]['index'], inplace=True)\n",
    "df_SA['daily']=df_SA['index'].diff()\n",
    "df_SA['daily'].fillna(df_SA.iloc[0]['index'], inplace=True)\n",
    "df_Oceania['daily']=df_Oceania['index'].diff()\n",
    "df_Oceania['daily'].fillna(df_Oceania.iloc[0]['index'], inplace=True)"
   ]
  },
  {
   "cell_type": "code",
   "execution_count": 509,
   "metadata": {},
   "outputs": [],
   "source": [
    "df_Asia1=df_Asia.drop_duplicates(subset='Month', keep=\"last\")\n",
    "df_Europe1=df_Europe.drop_duplicates(subset='Month', keep=\"last\")\n",
    "df_Africa1=df_Africa.drop_duplicates(subset='Month', keep=\"last\")\n",
    "df_NA1=df_NA.drop_duplicates(subset='Month', keep=\"last\")\n",
    "df_SA1=df_SA.drop_duplicates(subset='Month', keep=\"last\")\n",
    "df_Oceania1=df_Oceania.drop_duplicates(subset='Month', keep=\"last\")"
   ]
  },
  {
   "cell_type": "code",
   "execution_count": 510,
   "metadata": {},
   "outputs": [],
   "source": [
    "df_NA1.to_csv('NA1.csv')\n",
    "df_SA1.to_csv('SA1.csv')"
   ]
  },
  {
   "cell_type": "code",
   "execution_count": 511,
   "metadata": {},
   "outputs": [],
   "source": [
    "df_Africa1.to_csv('Africa1.csv')"
   ]
  },
  {
   "cell_type": "code",
   "execution_count": 512,
   "metadata": {},
   "outputs": [],
   "source": [
    "df_Africa1=pd.read_csv('Africa1.csv',index_col=0)"
   ]
  },
  {
   "cell_type": "code",
   "execution_count": 513,
   "metadata": {},
   "outputs": [],
   "source": [
    "df_SA1=pd.read_csv('SA1.csv')"
   ]
  },
  {
   "cell_type": "code",
   "execution_count": 514,
   "metadata": {},
   "outputs": [],
   "source": [
    "# df_Africa1"
   ]
  },
  {
   "cell_type": "code",
   "execution_count": 515,
   "metadata": {},
   "outputs": [],
   "source": [
    "df_Africa1[\"Month\"] = df_Africa1[\"Month\"].astype(str)\n",
    "df_SA1[\"Month\"] = df_SA1[\"Month\"].astype(str)"
   ]
  },
  {
   "cell_type": "code",
   "execution_count": 528,
   "metadata": {},
   "outputs": [
    {
     "data": {
      "text/html": [
       "<div>\n",
       "<style scoped>\n",
       "    .dataframe tbody tr th:only-of-type {\n",
       "        vertical-align: middle;\n",
       "    }\n",
       "\n",
       "    .dataframe tbody tr th {\n",
       "        vertical-align: top;\n",
       "    }\n",
       "\n",
       "    .dataframe thead th {\n",
       "        text-align: right;\n",
       "    }\n",
       "</style>\n",
       "<table border=\"1\" class=\"dataframe\">\n",
       "  <thead>\n",
       "    <tr style=\"text-align: right;\">\n",
       "      <th></th>\n",
       "      <th>Submission date</th>\n",
       "      <th>Month</th>\n",
       "      <th>region</th>\n",
       "      <th>Country</th>\n",
       "      <th>index</th>\n",
       "      <th>daily</th>\n",
       "    </tr>\n",
       "  </thead>\n",
       "  <tbody>\n",
       "    <tr>\n",
       "      <th>0</th>\n",
       "      <td>2020-03-26</td>\n",
       "      <td>03-20</td>\n",
       "      <td>Africa</td>\n",
       "      <td>Zambia</td>\n",
       "      <td>1</td>\n",
       "      <td>0.0</td>\n",
       "    </tr>\n",
       "    <tr>\n",
       "      <th>4</th>\n",
       "      <td>2020-04-06</td>\n",
       "      <td>04-20</td>\n",
       "      <td>Africa</td>\n",
       "      <td>Niger</td>\n",
       "      <td>4</td>\n",
       "      <td>4.0</td>\n",
       "    </tr>\n",
       "    <tr>\n",
       "      <th>5</th>\n",
       "      <td>2020-04-09</td>\n",
       "      <td>04-20</td>\n",
       "      <td>Africa</td>\n",
       "      <td>Morocco</td>\n",
       "      <td>5</td>\n",
       "      <td>1.0</td>\n",
       "    </tr>\n",
       "    <tr>\n",
       "      <th>25</th>\n",
       "      <td>2020-04-12</td>\n",
       "      <td>04-20</td>\n",
       "      <td>Africa</td>\n",
       "      <td>Madagascar</td>\n",
       "      <td>25</td>\n",
       "      <td>20.0</td>\n",
       "    </tr>\n",
       "    <tr>\n",
       "      <th>69</th>\n",
       "      <td>2020-04-13</td>\n",
       "      <td>04-20</td>\n",
       "      <td>Africa</td>\n",
       "      <td>Madagascar</td>\n",
       "      <td>69</td>\n",
       "      <td>44.0</td>\n",
       "    </tr>\n",
       "    <tr>\n",
       "      <th>...</th>\n",
       "      <td>...</td>\n",
       "      <td>...</td>\n",
       "      <td>...</td>\n",
       "      <td>...</td>\n",
       "      <td>...</td>\n",
       "      <td>...</td>\n",
       "    </tr>\n",
       "    <tr>\n",
       "      <th>61169</th>\n",
       "      <td>2021-12-14</td>\n",
       "      <td>12-21</td>\n",
       "      <td>Africa</td>\n",
       "      <td>Reunion</td>\n",
       "      <td>61169</td>\n",
       "      <td>208.0</td>\n",
       "    </tr>\n",
       "    <tr>\n",
       "      <th>61357</th>\n",
       "      <td>2021-12-15</td>\n",
       "      <td>12-21</td>\n",
       "      <td>Africa</td>\n",
       "      <td>Madagascar</td>\n",
       "      <td>61357</td>\n",
       "      <td>188.0</td>\n",
       "    </tr>\n",
       "    <tr>\n",
       "      <th>61632</th>\n",
       "      <td>2021-12-16</td>\n",
       "      <td>12-21</td>\n",
       "      <td>Africa</td>\n",
       "      <td>SouthAfrica</td>\n",
       "      <td>61632</td>\n",
       "      <td>275.0</td>\n",
       "    </tr>\n",
       "    <tr>\n",
       "      <th>62360</th>\n",
       "      <td>2021-12-17</td>\n",
       "      <td>12-21</td>\n",
       "      <td>Africa</td>\n",
       "      <td>Gambia</td>\n",
       "      <td>62360</td>\n",
       "      <td>728.0</td>\n",
       "    </tr>\n",
       "    <tr>\n",
       "      <th>62856</th>\n",
       "      <td>2021-12-18</td>\n",
       "      <td>12-21</td>\n",
       "      <td>Africa</td>\n",
       "      <td>SouthAfrica</td>\n",
       "      <td>62856</td>\n",
       "      <td>496.0</td>\n",
       "    </tr>\n",
       "  </tbody>\n",
       "</table>\n",
       "<p>438 rows × 6 columns</p>\n",
       "</div>"
      ],
      "text/plain": [
       "      Submission date  Month  region      Country  index  daily\n",
       "0          2020-03-26  03-20  Africa       Zambia      1    0.0\n",
       "4          2020-04-06  04-20  Africa        Niger      4    4.0\n",
       "5          2020-04-09  04-20  Africa      Morocco      5    1.0\n",
       "25         2020-04-12  04-20  Africa   Madagascar     25   20.0\n",
       "69         2020-04-13  04-20  Africa   Madagascar     69   44.0\n",
       "...               ...    ...     ...          ...    ...    ...\n",
       "61169      2021-12-14  12-21  Africa      Reunion  61169  208.0\n",
       "61357      2021-12-15  12-21  Africa   Madagascar  61357  188.0\n",
       "61632      2021-12-16  12-21  Africa  SouthAfrica  61632  275.0\n",
       "62360      2021-12-17  12-21  Africa       Gambia  62360  728.0\n",
       "62856      2021-12-18  12-21  Africa  SouthAfrica  62856  496.0\n",
       "\n",
       "[438 rows x 6 columns]"
      ]
     },
     "execution_count": 528,
     "metadata": {},
     "output_type": "execute_result"
    }
   ],
   "source": [
    "df_Africa"
   ]
  },
  {
   "cell_type": "code",
   "execution_count": 526,
   "metadata": {},
   "outputs": [],
   "source": [
    "df_Africa.loc[0,\"index\"]=1"
   ]
  },
  {
   "cell_type": "code",
   "execution_count": 520,
   "metadata": {},
   "outputs": [],
   "source": [
    "df_NA.drop(index=df_NA.index[0], \n",
    "        axis=0, \n",
    "        inplace=True)\n",
    "# df_Africa.drop(index=df_Africa.index[0], \n",
    "#         axis=0, \n",
    "#         inplace=True)\n",
    "df_SA.drop(index=df_SA.index[0], \n",
    "        axis=0, \n",
    "        inplace=True)\n",
    "# df_Oceania.drop(index=df_Oceania.index[0], \n",
    "#         axis=0, \n",
    "#         inplace=True)"
   ]
  },
  {
   "cell_type": "code",
   "execution_count": 521,
   "metadata": {},
   "outputs": [
    {
     "data": {
      "text/plain": [
       "1"
      ]
     },
     "execution_count": 521,
     "metadata": {},
     "output_type": "execute_result"
    }
   ],
   "source": [
    "df_NA.iloc[0][\"index\"]"
   ]
  },
  {
   "cell_type": "markdown",
   "metadata": {},
   "source": [
    "# Figure 1(d)"
   ]
  },
  {
   "cell_type": "code",
   "execution_count": 531,
   "metadata": {
    "scrolled": true
   },
   "outputs": [
    {
     "data": {
      "image/png": "[encoded data removed]",
      "text/plain": [
       "<Figure size 172.913x172.913 with 1 Axes>"
      ]
     },
     "metadata": {
      "needs_background": "light"
     },
     "output_type": "display_data"
    }
   ],
   "source": [
    "from scipy.interpolate import interpolate\n",
    "import matplotlib.pyplot as plt\n",
    "plt.rcParams[\"font.family\"] = \"Helvetica\"\n",
    "plt.rc('ytick', labelsize=5.5) \n",
    "plt.rc('xtick', labelsize=3.5) \n",
    "plt.rc('axes', titlesize=5.5)\n",
    "plt.rc('axes', labelsize=5.5)\n",
    "my_xticks = ['Jan-20','Feb-20','Mar-20','Apr-20','May-20','Jun-20','Jul-20','Aug-20','Sep-20','Oct-20','Nov-20','Dec-20',\n",
    "             'Jan-21','Feb-21','Mar-21','Apr-21','May-21','Jun-21','Jul-21','Aug-21','Sep-21','Oct-21','Nov-21','Dec-21']\n",
    "# a_BSpline = interpolate.make_interp_spline(df['Month'],  df.index)\n",
    "# y= a_BSpline(df['Month'])\n",
    "# a_BSpline = interpolate.make_interp_spline(df_Oceania['Month'],  df_Oceania.index)\n",
    "# y_Oceania= a_BSpline(df_Oceania['Submission date'])\n",
    "plt.plot(df['Submission date'], df.index,color=\"#228833\",marker='s',markersize=2, linewidth=1.0,markevery=40)\n",
    "plt.plot(df_Asia['Submission date'], df_Asia['index'],color=\"#CCBB44\",marker='+', markersize=4, linewidth=1.0,markevery=40)\n",
    "plt.plot(df_Oceania['Submission date'], df_Oceania[\"index\"], color=\"#4477AA\",marker='^',markersize=2, linewidth=1.0,markevery=40)\n",
    "plt.plot(df_Europe['Submission date'], df_Europe.index, color=\"#EE6677\",marker='v' ,markersize=2, linewidth=1.0,markevery=40)\n",
    "plt.plot(df_Africa['Submission date'], df_Africa[\"index\"], color=\"#BBBBBB\",marker= \"x\",markersize=3, linewidth=1.0 ,markevery=40)\n",
    "plt.plot(df_SA['Submission date'], df_SA.index, color=\"#66CCEE\",marker=\"1\",markersize=4, linewidth=1.0,markevery=40)\n",
    "plt.plot(df_NA['Submission date'], df_NA.index, color=\"#AA3377\",marker=\"o\",markersize=2, linewidth=1.0,markevery=40)\n",
    "#plt.xticks(df_NA['Submission date'], my_xticks)\n",
    "\n",
    "# # plt.set_xlabels(my_xticks)\n",
    "# labels=[\"Total\",\"Asia\",\"Oceania\",\"Europe\",\"Africa\",\"South America\",\"North America\"]\n",
    "# leg = plt.legend()\n",
    "plt.legend(labels,loc=\"lower right\", prop={'size': 4.5},edgecolor=\"white\")\n",
    "\n",
    "leg.get_frame().set_edgecolor('white')\n",
    "plt.yscale('log') \n",
    "plt.xlabel(\"Date\")\n",
    "positions = ('2020-01','2020-04','2020-07','2020-10','2021-01','2021-04','2021-07','2021-10','2022-01'\n",
    "            \n",
    "            )\n",
    "labels1 = ('Jan-20','Apr','Jul','Oct','Jan-21','Apr','Jul','Oct','Jan-22')\n",
    "plt.xticks(positions, labels1)\n",
    "plt.tick_params(axis='x',pad=3)\n",
    "#plt.ylim(1,9000000)\n",
    "plt.ylabel(\"Number Sequenced Genomes in the GISAID\")\n",
    "plt.tight_layout()\n",
    "plt.grid(linewidth=0.3,color=\"#DDDDDD\")\n",
    "#plt.show()\n",
    "plt.gcf().set_size_inches(2.40157, 2.40157)\n",
    "plt.savefig(\"1d.png\",dpi=300,bbox_inches='tight')\n",
    "# plt.savefig(\"1d.pdf\",dpi=300,bbox_inches='tight')"
   ]
  },
  {
   "cell_type": "code",
   "execution_count": 533,
   "metadata": {},
   "outputs": [],
   "source": [
    "# from scipy.interpolate import interpolate\n",
    "# import matplotlib.pyplot as plt\n",
    "# plt.rcParams[\"font.family\"] = \"Helvetica\"\n",
    "# plt.rc('ytick', labelsize=5.5) \n",
    "# plt.rc('xtick', labelsize=4) \n",
    "# plt.rc('axes', titlesize=5.5)\n",
    "# plt.rc('axes', labelsize=5.5)\n",
    "# my_xticks = ['Jan','Feb','Mar','Apr','May','Jun','Jul','Aug','Sep','Oct']\n",
    "# #a_BSpline = interpolate.make_interp_spline(df['date_submitted'],  df.index)\n",
    "# #y= a_BSpline(df['date_submitted'])\n",
    "# #a_BSpline = interpolate.make_interp_spline(df_Oceania['date_submitted'],  df_Oceania.index)\n",
    "# #y_Oceania= a_BSpline(df_Oceania['date_submitted'])\n",
    "# plt.plot(df['date_submitted'], df.index,color=\"#228833\",marker='s',markersize=2, linewidth=1.0,markevery=50)\n",
    "# plt.plot(df_Asia['date_submitted'], df_Asia['index'],color=\"#CCBB44\",marker='+',markersize=4, linewidth=1.0,markevery=40)\n",
    "# plt.plot(df_Oceania['date_submitted'], df_Oceania.index, color=\"#4477AA\",marker='^',markersize=2, linewidth=1.0,markevery=20)\n",
    "# plt.plot(df_Europe['date_submitted'], df_Europe.index, color=\"#EE6677\",marker='v' ,markersize=2, linewidth=1.0,markevery=40)\n",
    "# plt.plot(df_Africa['date_submitted'], df_Africa.index, color=\"#BBBBBB\",marker= \"X\",mew=2,markersize=2, linewidth=1.0 ,markevery=20)\n",
    "# plt.plot(df_SA['date_submitted'], df_SA.index, color=\"#66CCEE\",marker=\"D\",markersize=2, linewidth=1.0,markevery=20)\n",
    "# plt.plot(df_NA['date_submitted'], df_NA.index, color=\"#AA3377\",marker=\"o\",markersize=2, linewidth=1.0,markevery=40)\n",
    "# # plt.xticks(df_NA['date_submitted'], my_xticks)\n",
    "# plt.gcf().set_size_inches(2.416, 2.458)\n",
    "# # plt.set_xlabels(my_xticks)\n",
    "# labels=[\"Total\",\"Asia\",\"Oceania\",\"Europe\",\"Africa\",\"South America\",\"North America\"]\n",
    "# plt.legend(labels,loc=\"lower right\", prop={'size': 4.5})\n",
    "# plt.yscale('log') \n",
    "# plt.xlabel(\"Date\")\n",
    "# positions = ('2020-01','2020-02','2020-03','2020-04','2020-05','2020-06','2020-07','2020-08','2020-09','2020-10')\n",
    "# labels1 = ('Jan','Feb','Mar','Apr','May','Jun','Jul','Aug','Sep','Oct')\n",
    "# plt.xticks(positions, labels1)\n",
    "# plt.tick_params(axis='x',pad=3)\n",
    "# # plt.ylim(1,200000)\n",
    "# plt.ylabel(\"Number of SARS-CoV-2 genomes sequenced\")\n",
    "# plt.tight_layout()\n",
    "# # plt.grid(color=\"#DDDDDD\")\n",
    "# # plt.show()\n",
    "# plt.savefig(\"growth_over_time_by_division_log_labels.png\",dpi=300)\n",
    "# #plt.savefig(\"growth_over_time_by_division_log_labels.pdf\",dpi=300)"
   ]
  },
  {
   "cell_type": "code",
   "execution_count": 377,
   "metadata": {},
   "outputs": [],
   "source": [
    "# df"
   ]
  },
  {
   "cell_type": "code",
   "execution_count": 378,
   "metadata": {},
   "outputs": [],
   "source": [
    "# df_Africa"
   ]
  },
  {
   "cell_type": "markdown",
   "metadata": {},
   "source": [
    "# OPTIONAL MOVING AVERAGE STUFF"
   ]
  },
  {
   "cell_type": "code",
   "execution_count": 379,
   "metadata": {},
   "outputs": [
    {
     "name": "stderr",
     "output_type": "stream",
     "text": [
      "/home/vc/.local/lib/python3.5/site-packages/ipykernel_launcher.py:1: SettingWithCopyWarning: \n",
      "A value is trying to be set on a copy of a slice from a DataFrame.\n",
      "Try using .loc[row_indexer,col_indexer] = value instead\n",
      "\n",
      "See the caveats in the documentation: http://pandas.pydata.org/pandas-docs/stable/indexing.html#indexing-view-versus-copy\n",
      "  \"\"\"Entry point for launching an IPython kernel.\n",
      "/home/vc/.local/lib/python3.5/site-packages/ipykernel_launcher.py:2: SettingWithCopyWarning: \n",
      "A value is trying to be set on a copy of a slice from a DataFrame.\n",
      "Try using .loc[row_indexer,col_indexer] = value instead\n",
      "\n",
      "See the caveats in the documentation: http://pandas.pydata.org/pandas-docs/stable/indexing.html#indexing-view-versus-copy\n",
      "  \n"
     ]
    }
   ],
   "source": [
    "df['SMA_10'] = df.daily.rolling(20, min_periods=1).mean()\n",
    "df_Asia['SMA_10'] = df_Asia.daily.rolling(20, min_periods=1).mean()\n",
    "df_Africa['SMA_10'] = df_Africa.daily.rolling(20, min_periods=1).mean()\n",
    "df_Europe['SMA_10'] = df_Europe.daily.rolling(20, min_periods=1).mean()\n",
    "df_NA['SMA_10'] = df_NA.daily.rolling(20, min_periods=1).mean()\n",
    "df_SA['SMA_10'] = df_SA.daily.rolling(20, min_periods=1).mean()\n",
    "df_Oceania['SMA_10'] = df_Oceania.daily.rolling(20, min_periods=1).mean()"
   ]
  },
  {
   "cell_type": "code",
   "execution_count": 380,
   "metadata": {},
   "outputs": [],
   "source": [
    "df_Europe.to_csv('df_Europe.csv')"
   ]
  },
  {
   "cell_type": "code",
   "execution_count": 381,
   "metadata": {},
   "outputs": [],
   "source": [
    "df_Africa.to_csv('df_Africa.csv')"
   ]
  }
 ],
 "metadata": {
  "kernelspec": {
   "display_name": "Python 3 (ipykernel)",
   "language": "python",
   "name": "python3"
  },
  "language_info": {
   "codemirror_mode": {
    "name": "ipython",
    "version": 3
   },
   "file_extension": ".py",
   "mimetype": "text/x-python",
   "name": "python",
   "nbconvert_exporter": "python",
   "pygments_lexer": "ipython3",
   "version": "3.8.5"
  }
 },
 "nbformat": 4,
 "nbformat_minor": 4
}
