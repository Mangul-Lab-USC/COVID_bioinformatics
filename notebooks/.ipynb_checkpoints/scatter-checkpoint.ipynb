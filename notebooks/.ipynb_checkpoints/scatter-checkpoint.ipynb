{
 "cells": [
  {
   "cell_type": "code",
   "execution_count": 2,
   "metadata": {},
   "outputs": [
    {
     "data": {
      "image/png": "[encoded data removed]",
      "text/plain": [
       "<Figure size 432x288 with 1 Axes>"
      ]
     },
     "metadata": {
      "needs_background": "light"
     },
     "output_type": "display_data"
    }
   ],
   "source": [
    "import matplotlib.pyplot as plt\n",
    "\n",
    "x = [5,7,8,7,2,17,2,9,4,11,12,9,6]\n",
    "y = [99,86,87,88,111,86,103,87,94,78,77,85,86]\n",
    "\n",
    "plt.scatter(x, y)\n",
    "\n",
    "plt.show()"
   ]
  },
  {
   "cell_type": "code",
   "execution_count": 5,
   "metadata": {},
   "outputs": [],
   "source": [
    "import pandas as pd\n",
    "df_merged2=pd.read_csv('gdp_per_capita.csv',header=0)"
   ]
  },
  {
   "cell_type": "code",
   "execution_count": 6,
   "metadata": {},
   "outputs": [],
   "source": [
    "df_Asia = df_merged2[df_merged2[\"Continent\"] == \"Asia\"]\n",
    "df_Oceania = df_merged2[df_merged2[\"Continent\"] == \"Oceania\"]\n",
    "df_NA = df_merged2[df_merged2[\"Continent\"] == \"North America\"]\n",
    "df_Europe = df_merged2[df_merged2[\"Continent\"] == \"Europe\"]\n",
    "df_Africa = df_merged2[df_merged2[\"Continent\"] == \"Africa\"]\n",
    "df_SA = df_merged2[df_merged2[\"Continent\"] == \"South America\"]"
   ]
  },
  {
   "cell_type": "code",
   "execution_count": 20,
   "metadata": {},
   "outputs": [
    {
     "name": "stdout",
     "output_type": "stream",
     "text": [
      "[[1.         0.71543079]\n",
      " [0.71543079 1.        ]]\n",
      "[[1.         0.87048868]\n",
      " [0.87048868 1.        ]]\n",
      "[[1.         0.93795263]\n",
      " [0.93795263 1.        ]]\n",
      "[[1.        0.2424977]\n",
      " [0.2424977 1.       ]]\n",
      "[[1.         0.52215341]\n",
      " [0.52215341 1.        ]]\n",
      "[[1.         0.12468674]\n",
      " [0.12468674 1.        ]]\n"
     ]
    }
   ],
   "source": [
    "import numpy as np\n",
    "print(np.corrcoef(df_Asia['GDP_per_pop'], df_Asia['sequenced_per_mn']))\n",
    "print(np.corrcoef(df_Oceania['GDP_per_pop'], df_Oceania['sequenced_per_mn']))\n",
    "print(np.corrcoef(df_NA['GDP_per_pop'], df_NA['sequenced_per_mn']))\n",
    "print(np.corrcoef(df_SA['GDP_per_pop'], df_SA['sequenced_per_mn']))\n",
    "print(np.corrcoef(df_Europe['GDP_per_pop'], df_Europe['sequenced_per_mn']))\n",
    "print(np.corrcoef(df_Africa['GDP_per_pop'], df_Africa['sequenced_per_mn']))"
   ]
  },
  {
   "cell_type": "code",
   "execution_count": 21,
   "metadata": {},
   "outputs": [
    {
     "data": {
      "image/png": "[encoded data removed]",
      "text/plain": [
       "<Figure size 173.952x176.976 with 1 Axes>"
      ]
     },
     "metadata": {
      "needs_background": "light"
     },
     "output_type": "display_data"
    }
   ],
   "source": [
    "import math\n",
    "import matplotlib.pyplot as plt\n",
    "fig = plt.figure()\n",
    "ax = fig.add_subplot(111)\n",
    "plt.rcParams[\"font.family\"] = \"Helvetica\"\n",
    "plt.rc('ytick', labelsize=3) \n",
    "plt.rc('xtick', labelsize=4.5) \n",
    "plt.rc('axes', titlesize=5.5)\n",
    "plt.rc('axes', labelsize=5.5)\n",
    "\n",
    "alpha=0.7\n",
    "\n",
    "plt.scatter( df_Asia['GDP_per_pop'],df_Asia['sequenced_per_mn'],color='#CCBB44',lw=0,alpha=alpha)\n",
    "plt.scatter( df_Oceania['GDP_per_pop'],df_Oceania['sequenced_per_mn'],color='#4477AA',lw=0,alpha=alpha)\n",
    "plt.scatter(df_NA['GDP_per_pop'],df_NA['sequenced_per_mn'],color='#AA3377',lw=0,alpha=alpha)\n",
    "plt.scatter(df_SA['GDP_per_pop'], df_SA['sequenced_per_mn'],color='#66CCEE',lw=0,alpha=alpha)\n",
    "plt.scatter( df_Europe['GDP_per_pop'],df_Europe['sequenced_per_mn'],color='#EE6677',lw=0,alpha=alpha)\n",
    "plt.scatter(df_Africa['GDP_per_pop'],df_Africa['sequenced_per_mn'],color='#BBBBBB',lw=0,alpha=alpha)\n",
    "for i, txt in enumerate(df_merged2.Country):\n",
    "    plt.annotate(txt,(df_merged2.GDP_per_pop[i],df_merged2.sequenced_per_mn[i]), textcoords=\"offset points\",xytext=(0,0.02),ha='center',fontsize=2)\n",
    "\n",
    "    \n",
    "plt.yscale('log')\n",
    "plt.xscale('log')\n",
    "# plt.gcf().set_size_inches(2, 2)\n",
    "plt.gcf().set_size_inches(2.416, 2.458)\n",
    "\n",
    "plt.ylabel('Number of genomes sequenced per 1M people')\n",
    "plt.xlabel('GDP per population')\n",
    "\n",
    "plt.tight_layout()\n",
    "\n",
    "\n",
    "\n",
    "labels=[\"Asia\",\"Oceania\",\"North America\",\"South America\",\"Europe\",\"Africa\"]\n",
    "# lgnd=ax.legend(labels,loc=\"upper left\", prop={'size': 4.5},edgecolor=\"white\",fontsize=4.5)\n",
    "lgnd=ax.legend(labels,loc=\"bottom right\", prop={'size': 3.9},edgecolor=\"white\",fontsize=4.5)\n",
    "for handle in lgnd.legendHandles:\n",
    "    handle.set_sizes([15.0])\n",
    "\n",
    "\n",
    "plt.ylim(0,100000)\n",
    "plt.xlim(0,200000)\n",
    "# plt.grid(linewidth=0.3,color=\"#DDDDDD\")\n",
    "# plt.tight_layout()\n",
    "plt.savefig('gdp_sequenced_pop.png', dpi=300, bbox_inches = \"tight\")\n",
    "plt.savefig('gdp_sequenced_pop.pdf', dpi=300, bbox_inches = \"tight\")\n",
    "plt.show()"
   ]
  },
  {
   "cell_type": "code",
   "execution_count": null,
   "metadata": {},
   "outputs": [],
   "source": []
  }
 ],
 "metadata": {
  "kernelspec": {
   "display_name": "Python 3",
   "language": "python",
   "name": "python3"
  },
  "language_info": {
   "codemirror_mode": {
    "name": "ipython",
    "version": 3
   },
   "file_extension": ".py",
   "mimetype": "text/x-python",
   "name": "python",
   "nbconvert_exporter": "python",
   "pygments_lexer": "ipython3",
   "version": "3.5.2"
  }
 },
 "nbformat": 4,
 "nbformat_minor": 4
}
