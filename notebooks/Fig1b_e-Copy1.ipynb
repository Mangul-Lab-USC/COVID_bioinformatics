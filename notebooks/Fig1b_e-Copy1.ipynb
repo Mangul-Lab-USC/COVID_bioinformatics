{
 "cells": [
  {
   "cell_type": "code",
   "execution_count": 1,
   "metadata": {},
   "outputs": [],
   "source": [
    "import pandas as pd\n",
    "import numpy as np\n",
    "import matplotlib.pyplot as plt"
   ]
  },
  {
   "cell_type": "code",
   "execution_count": 2,
   "metadata": {},
   "outputs": [],
   "source": [
    "total_cases_clean=pd.read_csv('~/Downloads/country_cases.csv',header=0)"
   ]
  },
  {
   "cell_type": "code",
   "execution_count": 3,
   "metadata": {},
   "outputs": [],
   "source": [
    "total_cases_clean[\"Country\"] = total_cases_clean[\"Country\"].str.replace(',', '')"
   ]
  },
  {
   "cell_type": "code",
   "execution_count": 4,
   "metadata": {},
   "outputs": [],
   "source": [
    "genomes_sequenced=pd.read_csv('value_counts.csv',header=0,index_col=0)"
   ]
  },
  {
   "cell_type": "code",
   "execution_count": 5,
   "metadata": {},
   "outputs": [],
   "source": [
    "genomes_sequenced[\"index\"] = genomes_sequenced[\"index\"].str.replace(',', '')"
   ]
  },
  {
   "cell_type": "code",
   "execution_count": 6,
   "metadata": {},
   "outputs": [],
   "source": [
    "population=pd.read_csv('../csv/country_population_new.csv',header=0)"
   ]
  },
  {
   "cell_type": "code",
   "execution_count": 7,
   "metadata": {},
   "outputs": [],
   "source": [
    "population['Population'] = population['Population'].str.replace(',', '')"
   ]
  },
  {
   "cell_type": "code",
   "execution_count": 8,
   "metadata": {},
   "outputs": [],
   "source": [
    "continent=pd.read_csv(\"../csv/country_continent.csv\",header=0)"
   ]
  },
  {
   "cell_type": "code",
   "execution_count": 9,
   "metadata": {},
   "outputs": [],
   "source": [
    "total_cases_clean.rename(columns={'Last': 'Total_Cases'}, inplace=True)"
   ]
  },
  {
   "cell_type": "code",
   "execution_count": 10,
   "metadata": {},
   "outputs": [],
   "source": [
    "genomes_sequenced.rename(columns={'index': 'Country', 'Country': 'sequenced'}, inplace=True)"
   ]
  },
  {
   "cell_type": "code",
   "execution_count": 11,
   "metadata": {},
   "outputs": [],
   "source": [
    "genomes_sequenced[\"Country\"] = genomes_sequenced.Country.str.replace(' ', '')"
   ]
  },
  {
   "cell_type": "code",
   "execution_count": 12,
   "metadata": {},
   "outputs": [],
   "source": [
    "df_merged=pd.merge(total_cases_clean, genomes_sequenced, on=\"Country\")"
   ]
  },
  {
   "cell_type": "code",
   "execution_count": 13,
   "metadata": {},
   "outputs": [],
   "source": [
    "df_merged1=pd.merge(df_merged, population, on=\"Country\")"
   ]
  },
  {
   "cell_type": "code",
   "execution_count": 14,
   "metadata": {},
   "outputs": [],
   "source": [
    "df_merged2=pd.merge(df_merged1, continent, on=\"Country\")"
   ]
  },
  {
   "cell_type": "code",
   "execution_count": 15,
   "metadata": {},
   "outputs": [
    {
     "data": {
      "text/plain": [
       "Country        object\n",
       "Total_Cases     int64\n",
       "sequenced       int64\n",
       "Population     object\n",
       "Continent      object\n",
       "dtype: object"
      ]
     },
     "execution_count": 15,
     "metadata": {},
     "output_type": "execute_result"
    }
   ],
   "source": [
    "df_merged2.dtypes"
   ]
  },
  {
   "cell_type": "code",
   "execution_count": 16,
   "metadata": {},
   "outputs": [],
   "source": [
    "df_merged2[\"Total_Cases\"] = pd.to_numeric(df_merged2[\"Total_Cases\"])\n",
    "df_merged2[\"Population\"] = pd.to_numeric(df_merged2[\"Population\"])"
   ]
  },
  {
   "cell_type": "code",
   "execution_count": 17,
   "metadata": {},
   "outputs": [],
   "source": [
    "df_merged2['cases_per_pop']=df_merged2[\"Total_Cases\"]/df_merged2[\"Population\"]\n",
    "df_merged2['sequenced_per_cases'] = df_merged2['sequenced']/df_merged2['Total_Cases']"
   ]
  },
  {
   "cell_type": "code",
   "execution_count": 18,
   "metadata": {},
   "outputs": [],
   "source": [
    "df_merged2['sequenced_per_mnpop'] = df_merged2['sequenced']/df_merged2['Population']*1000000"
   ]
  },
  {
   "cell_type": "code",
   "execution_count": 19,
   "metadata": {},
   "outputs": [],
   "source": [
    "df_merged2['cases_per_mnpop']=df_merged2[\"Total_Cases\"]/df_merged2[\"Population\"]*1000000"
   ]
  },
  {
   "cell_type": "code",
   "execution_count": 20,
   "metadata": {},
   "outputs": [],
   "source": [
    "# df_merged2"
   ]
  },
  {
   "cell_type": "code",
   "execution_count": 21,
   "metadata": {},
   "outputs": [],
   "source": [
    "df_merged2.to_csv('df_merged2.csv')"
   ]
  },
  {
   "cell_type": "code",
   "execution_count": 22,
   "metadata": {},
   "outputs": [],
   "source": [
    "df_Asia = df_merged2[df_merged2[\"Continent\"] == \"Asia\"]\n",
    "df_Oceania = df_merged2[df_merged2[\"Continent\"] == \"Oceania\"]\n",
    "df_NA = df_merged2[df_merged2[\"Continent\"] == \"North America\"]\n",
    "df_Europe = df_merged2[df_merged2[\"Continent\"] == \"Europe\"]\n",
    "df_Africa = df_merged2[df_merged2[\"Continent\"] == \"Africa\"]\n",
    "df_SA = df_merged2[df_merged2[\"Continent\"] == \"South America\"]"
   ]
  },
  {
   "cell_type": "code",
   "execution_count": 23,
   "metadata": {},
   "outputs": [],
   "source": [
    "c1=1/min(df_merged2[\"cases_per_pop\"])\n",
    "c=1\n",
    "# (df_Asia[\"cases_per_pop\"]*c1)"
   ]
  },
  {
   "cell_type": "code",
   "execution_count": 24,
   "metadata": {},
   "outputs": [
    {
     "data": {
      "image/png": "[encoded data removed]",
      "text/plain": [
       "<Figure size 173.952x176.976 with 1 Axes>"
      ]
     },
     "metadata": {
      "needs_background": "light"
     },
     "output_type": "display_data"
    }
   ],
   "source": [
    "fig = plt.figure()\n",
    "ax = fig.add_subplot(111)\n",
    "plt.rcParams[\"font.family\"] = \"Helvetica\"\n",
    "plt.rc('ytick', labelsize=4.5) \n",
    "plt.rc('xtick', labelsize=4.5) \n",
    "plt.rc('axes', titlesize=5.5)\n",
    "plt.rc('axes', labelsize=5.5)\n",
    "\n",
    "alpha=0.7\n",
    "l=0.5\n",
    "plt.scatter( df_Europe['cases_per_pop'],df_Europe['sequenced_per_cases'],color='#EE6677',lw=l,alpha=alpha,edgecolors='black')\n",
    "plt.scatter( df_Asia['cases_per_pop'],df_Asia['sequenced_per_cases'],color='#CCBB44',lw=l,alpha=alpha,edgecolors='black')\n",
    "plt.scatter(df_Africa['cases_per_pop'],df_Africa['sequenced_per_cases'],color='#BBBBBB',lw=l,alpha=alpha,edgecolors='black')\n",
    "plt.scatter(df_SA['cases_per_pop'], df_SA['sequenced_per_cases'],color='#66CCEE',lw=l,alpha=alpha,edgecolors='black')\n",
    "plt.scatter(df_NA['cases_per_pop'],df_NA['sequenced_per_cases'],color='#AA3377',lw=l,alpha=alpha,edgecolors='black')\n",
    "plt.scatter( df_Oceania['cases_per_pop'],df_Oceania['sequenced_per_cases'],color='#4477AA',lw=l,alpha=alpha,edgecolors='black')\n",
    "up = (1,1.5)\n",
    "down = (1,0.6)\n",
    "right = (1.7,1)\n",
    "left = (0.6,1)\n",
    "center = (1,1)\n",
    "ctr_d_xy = {'Denmark':up, 'Iceland':up, 'Luxembourg':(1.2,1.45), 'United Kingdom':up,\n",
    "           'Norway':(1,1.45), 'USA':(1.5,1), 'Slovenia':(1,1.4), \n",
    "           'Canada':(1.1,1.65),'Australia':up,\n",
    "           'Italy':center,  'Gambia':up,\n",
    "           'Zimbabwe':left, 'Kenya':up, 'Mali':left, 'Uganda':up, 'Ethiopia':up, 'Venezuela':up,\n",
    "           'Sierra Leone': (0.8,1.5), 'Senegal':up,\"Singapore\":up,\"Finland\":up,\n",
    "           'Madagascar':up,'Armenia':(1,1.4),\"Serbia\":(1.4,1),'Georgia':(1,1.4),\n",
    "           'Rwanda':(1,1.4), 'Pakistan':up, 'Algeria':down, 'Albania':up, 'Nepal':(1,1.4), 'China':up,\"Liberia\":down,\n",
    "           'Iran':(1,1), 'Taiwan':up, 'Bulgaria':(0.55,1.1), 'India':center,\n",
    "           'Kazakhstan':(1,1.4), 'Guinea':left, \"Benin\":up,\"Niger\":up,\"Chad\":up,\"Sudan\":up,\n",
    "            \"Somalia\":down,\"Afghanistan\":(1,1.4),\"Djibouti\":up,\"Azerbaijan\":up,\"Kyrgyzstan\":up,\"Haiti\":(1,1),\n",
    "           'South Africa':(0.6,1.4), 'Japan':down,\"Brunei\":up, \"Bahrain\":right, 'Peru':center,\n",
    "           'New Zealand':up, 'Vietnam': (1,1), 'Cambodia': up, 'Papua New Guinea': up,\n",
    "           'Saint Kitts and Nevis': up, 'Mongolia': right, 'Cameron': down, \n",
    "           'Montenegro':right, 'Gabon':up, 'Philipines':left, 'Egipt': down,\n",
    "            'Israel':(1,1), 'Estonia':right, 'Dominican Republic': (1,0.55),\n",
    "            'Bolivia':left, 'Belarus':(1,0.5),\"Guatemala\":center,\"Guyana\":center,\n",
    "           'Equatorial Guinea':(0.8,1.5), 'Mexico':center, 'Grece':center, \n",
    "           \"Germany\":(1,1.4), 'Moroco': center,\n",
    "           'Sweden':(1,1.4),\"Montenegro\":up}\n",
    "for i, txt in enumerate(df_merged2.Country):\n",
    "    dx = 1\n",
    "    dy = 1\n",
    "    if txt in ctr_d_xy: \n",
    "        dx, dy = (1,1) if ctr_d_xy[txt] is None else ctr_d_xy[txt]\n",
    "        plt.annotate(txt,(df_merged2['cases_per_pop'][i]*dx,df_merged2['sequenced_per_cases'][i]*dy), textcoords=\"offset points\",xytext=(0,0.02),ha='center',fontsize=2)\n",
    "\n",
    "plt.yscale('log')\n",
    "plt.xscale('log')\n",
    "plt.gcf().set_size_inches(2.416, 2.458)\n",
    "\n",
    "plt.ylabel('Number of genomes sequenced per case')\n",
    "plt.xlabel('Cases per capita')\n",
    "\n",
    "plt.tight_layout()\n",
    "\n",
    "\n",
    "\n",
    "labels=[\"Europe\",\"Asia\",\"Africa\",\"South America\",\"North America\",\"Oceania\"]\n",
    "lgnd=ax.legend(labels,loc=\"lower left\", prop={'size': 3.9},edgecolor=\"white\",fontsize=4.5)\n",
    "\n",
    "plt.ylim(5e-6,1.4)\n",
    "# #plt.ylim(1e-6,1.4)\n",
    "# plt.xlim(1.5e-5,0.2)\n",
    "#plt.xlim(-0.01,0.15)\n",
    "\n",
    "plt.savefig('gdp_sequenced_case_log_new.png', dpi=600, bbox_inches = \"tight\")\n",
    "# plt.savefig('gdp_sequenced_case_log.pdf', dpi=300, bbox_inches = \"tight\")\n",
    "# plt.show()"
   ]
  },
  {
   "cell_type": "code",
   "execution_count": 25,
   "metadata": {},
   "outputs": [],
   "source": [
    "# import math\n",
    "# import matplotlib.pyplot as plt\n",
    "# fig = plt.figure()\n",
    "# ax = fig.add_subplot(111)\n",
    "# plt.rcParams[\"font.family\"] = \"Helvetica\"\n",
    "# plt.rc('ytick', labelsize=4.5) \n",
    "# plt.rc('xtick', labelsize=4.5) \n",
    "# plt.rc('axes', titlesize=5.5)\n",
    "# plt.rc('axes', labelsize=5.5)\n",
    "# # plt.grid(linewidth=0.3,color=\"#DDDDDD\")\n",
    "# alpha=0.7\n",
    "# c1=1/min(df_merged2[\"cases_per_pop\"])\n",
    "# c=1\n",
    "# plt.scatter( df_Asia['cases_per_pop'],df_Asia['sequenced_per_cases'],color='#CCBB44',lw=0.5,alpha=alpha,edgecolors='black')\n",
    "# plt.scatter( df_Oceania['cases_per_pop'],df_Oceania['sequenced_per_cases'],color='#4477AA',lw=0.5,alpha=alpha,edgecolors='black')\n",
    "# plt.scatter(df_NA['cases_per_pop'],df_NA['sequenced_per_cases'],lw=0.5,alpha=alpha,edgecolors='black')\n",
    "# plt.scatter(df_SA['cases_per_pop'], df_SA['sequenced_per_cases'],color='#66CCEE',lw=0.5,alpha=alpha,edgecolors='black')\n",
    "# plt.scatter( df_Europe['cases_per_pop'],df_Europe['sequenced_per_cases'],color='#EE6677',lw=0.5,alpha=alpha,edgecolors='black')\n",
    "# plt.scatter(df_Africa['cases_per_pop'],df_Africa['sequenced_per_cases'],color='#BBBBBB',lw=0.5,alpha=alpha,edgecolors='black')\n",
    "# for i, txt in enumerate(df_merged2.Country):\n",
    "#     plt.annotate(txt,(df_merged2.cases_per_pop[i],df_merged2.sequenced_per_cases[i]), textcoords=\"offset points\",xytext=(0,3.5),ha='center',fontsize=2)\n",
    "\n",
    "\n",
    "# # for i, txt in enumerate(labels):\n",
    "# #     plt.annotate(txt,(df_merged.Count[i], df_merged.Total_Cases[i]), textcoords=\"offset points\",xytext=(0,2),ha='center')\n",
    "\n",
    "# plt.yscale('log')\n",
    "# plt.xscale('log')\n",
    "# plt.gcf().set_size_inches(2.416, 2.458)\n",
    "\n",
    "# plt.ylabel('Number of genomes sequenced per case')\n",
    "# plt.xlabel('Cases per capita')\n",
    "\n",
    "# plt.tight_layout()\n",
    "\n",
    "\n",
    "\n",
    "# labels=[\"Asia\",\"Oceania\",\"North America\",\"South America\",\"Europe\",\"Africa\"]\n",
    "# lgnd=ax.legend(labels,loc=\"lower left\", prop={'size': 4.5},edgecolor=\"white\",fontsize=4.5,framealpha=0)\n",
    "# for handle in lgnd.legendHandles:\n",
    "#     handle.set_sizes([20.0])\n",
    "    \n",
    "\n",
    "# labels1 = ['0.0002','0.002', '0.02']\n",
    "# #lgnd1 = ax.legend(labels1,loc=\"best\", prop={'size': 4},edgecolor=\"white\",title=\"Cases per population\",fontsize=4)\n",
    "# # plt.setp(lgnd1.get_title(),fontsize=4.5)\n",
    "# # lgnd1.legendHandles[0]._sizes = [np.sqrt(c1*0.0002)]\n",
    "# # lgnd1.legendHandles[1]._sizes = [np.sqrt(c1*0.002)]\n",
    "# # lgnd1.legendHandles[2]._sizes = [np.sqrt(c1*0.02)]\n",
    "# # lgnd1.legendHandles[3]._sizes = [np.sqrt(1000)]\n",
    "# # lgnd1.legendHandles[4]._sizes = [np.sqrt(10000)]\n",
    "# # lgnd1.legendHandles[0].set_color('#CCBB44')\n",
    "# # lgnd1.legendHandles[1].set_color('#CCBB44')\n",
    "# # lgnd1.legendHandles[2].set_color('#CCBB44')\n",
    "# # lgnd1.legendHandles[3].set_color('#CCBB44')\n",
    "# ax.add_artist(lgnd)\n",
    "    \n",
    "# plt.yscale('log')\n",
    "# plt.xscale('log')\n",
    "\n",
    "# # leg = plt.legend(labels1,loc=\"lower right\", prop={'size': 4.5},edgecolor=\"white\")\n",
    "\n",
    "# # plt.ylim(1,20000000)\n",
    "# # plt.xlim(1000,80000000)\n",
    "# # plt.grid(linewidth=0.3,color=\"#DDDDDD\")\n",
    "# plt.savefig('Fig1b_scatter_nolabel_nogridline.png', dpi=500, bbox_inches = \"tight\")\n",
    "# # plt.savefig('Fig1b_scatter_nolabel_nogridline.pdf', dpi=300, bbox_inches = \"tight\")\n",
    "# # plt.show()"
   ]
  },
  {
   "cell_type": "markdown",
   "metadata": {},
   "source": [
    "# Figure 1b: without variable size"
   ]
  },
  {
   "cell_type": "code",
   "execution_count": 26,
   "metadata": {},
   "outputs": [],
   "source": [
    "GDP=pd.read_csv('../csv/country_GDP.csv',header=0)"
   ]
  },
  {
   "cell_type": "code",
   "execution_count": 27,
   "metadata": {},
   "outputs": [],
   "source": [
    "df_merged=pd.merge(GDP, genomes_sequenced, on=\"Country\")"
   ]
  },
  {
   "cell_type": "code",
   "execution_count": 28,
   "metadata": {},
   "outputs": [],
   "source": [
    "df_merged1=pd.merge(df_merged, total_cases_clean, on=\"Country\")"
   ]
  },
  {
   "cell_type": "code",
   "execution_count": 29,
   "metadata": {},
   "outputs": [],
   "source": [
    "df_merged11=pd.merge(df_merged1, continent, on=\"Country\")"
   ]
  },
  {
   "cell_type": "code",
   "execution_count": 30,
   "metadata": {},
   "outputs": [],
   "source": [
    "df_merged2=pd.merge(df_merged11, population, on=\"Country\")"
   ]
  },
  {
   "cell_type": "code",
   "execution_count": 31,
   "metadata": {},
   "outputs": [],
   "source": [
    "df_merged2[\"Total_Cases\"] = pd.to_numeric(df_merged2[\"Total_Cases\"])\n",
    "df_merged2[\"Population\"] = pd.to_numeric(df_merged2[\"Population\"])\n"
   ]
  },
  {
   "cell_type": "code",
   "execution_count": 32,
   "metadata": {},
   "outputs": [],
   "source": [
    "# df_merged2.drop('index_x', axis=1, inplace=True)\n",
    "# df_merged2.drop('index_y', axis=1, inplace=True)\n",
    "df_merged2['cases_per_pop'] = df_merged2['Total_Cases']/df_merged2['Population']\n",
    "df_merged2['sequenced_per_pop'] = df_merged2['sequenced']/df_merged2['Population']\n",
    "df_merged2['sequenced_per_mn'] = df_merged2['sequenced']/df_merged2['Population']*1000000\n",
    "# df_merged2['sequenced_per_case'] = df_merged2['sequenced']/df_merged2['Total_Cases']\n",
    "df_merged2['GDP_per_pop'] = df_merged2['GDP']/df_merged2['Population']\n",
    "df_merged2['sequenced_per_cases'] = df_merged2['sequenced']/df_merged2['Total_Cases']"
   ]
  },
  {
   "cell_type": "code",
   "execution_count": 33,
   "metadata": {},
   "outputs": [],
   "source": [
    "df_merged2.to_csv('gdp_per_capita.csv')"
   ]
  },
  {
   "cell_type": "code",
   "execution_count": 34,
   "metadata": {},
   "outputs": [],
   "source": [
    "Income=pd.read_csv('../csv/country_income_new.csv',header=0)"
   ]
  },
  {
   "cell_type": "code",
   "execution_count": 35,
   "metadata": {},
   "outputs": [],
   "source": [
    "df_merged3=pd.merge(df_merged2, Income, on=\"Country\")"
   ]
  },
  {
   "cell_type": "code",
   "execution_count": 36,
   "metadata": {},
   "outputs": [],
   "source": [
    "df_merged3.to_csv('income_stats.csv')"
   ]
  },
  {
   "cell_type": "code",
   "execution_count": 37,
   "metadata": {},
   "outputs": [],
   "source": [
    "df_merged2['sequenced_per_mnpop'] = df_merged2['sequenced']/df_merged2['Population']*1000000"
   ]
  },
  {
   "cell_type": "code",
   "execution_count": 38,
   "metadata": {},
   "outputs": [],
   "source": [
    "df_Asia = df_merged2[df_merged2[\"Continent\"] == \"Asia\"]\n",
    "df_Oceania = df_merged2[df_merged2[\"Continent\"] == \"Oceania\"]\n",
    "df_NA = df_merged2[df_merged2[\"Continent\"] == \"North America\"]\n",
    "df_Europe = df_merged2[df_merged2[\"Continent\"] == \"Europe\"]\n",
    "df_Africa = df_merged2[df_merged2[\"Continent\"] == \"Africa\"]\n",
    "df_SA = df_merged2[df_merged2[\"Continent\"] == \"South America\"]"
   ]
  },
  {
   "cell_type": "code",
   "execution_count": 39,
   "metadata": {},
   "outputs": [
    {
     "data": {
      "text/plain": [
       "5.3727693008081e-07"
      ]
     },
     "execution_count": 39,
     "metadata": {},
     "output_type": "execute_result"
    }
   ],
   "source": [
    "(min(df_merged2[\"sequenced_per_pop\"]))"
   ]
  },
  {
   "cell_type": "code",
   "execution_count": 40,
   "metadata": {},
   "outputs": [
    {
     "data": {
      "text/plain": [
       "5.3727693008081e-07"
      ]
     },
     "execution_count": 40,
     "metadata": {},
     "output_type": "execute_result"
    }
   ],
   "source": [
    "min(df_merged2[\"sequenced_per_pop\"])"
   ]
  },
  {
   "cell_type": "code",
   "execution_count": 41,
   "metadata": {},
   "outputs": [
    {
     "data": {
      "text/plain": [
       "303.592446832277"
      ]
     },
     "execution_count": 41,
     "metadata": {},
     "output_type": "execute_result"
    }
   ],
   "source": [
    "min(df_merged2[\"GDP_per_pop\"])"
   ]
  },
  {
   "cell_type": "code",
   "execution_count": 42,
   "metadata": {},
   "outputs": [
    {
     "data": {
      "text/plain": [
       "108384.63251775924"
      ]
     },
     "execution_count": 42,
     "metadata": {},
     "output_type": "execute_result"
    }
   ],
   "source": [
    "max(df_merged2[\"GDP_per_pop\"])"
   ]
  },
  {
   "cell_type": "code",
   "execution_count": 43,
   "metadata": {},
   "outputs": [
    {
     "data": {
      "image/png": "[encoded data removed]",
      "text/plain": [
       "<Figure size 173.952x176.976 with 1 Axes>"
      ]
     },
     "metadata": {
      "needs_background": "light"
     },
     "output_type": "display_data"
    }
   ],
   "source": [
    "fig = plt.figure()\n",
    "ax = fig.add_subplot(111)\n",
    "plt.rcParams[\"font.family\"] = \"Helvetica\"\n",
    "plt.rc('ytick', labelsize=4.5) \n",
    "plt.rc('xtick', labelsize=4.5) \n",
    "plt.rc('axes', titlesize=5.5)\n",
    "plt.rc('axes', labelsize=5.5)\n",
    "\n",
    "alpha=0.7\n",
    "l=0.5\n",
    "plt.scatter( df_Europe['GDP_per_pop'],df_Europe['sequenced_per_mn'],color='#EE6677',lw=l,alpha=alpha,edgecolors='black')\n",
    "plt.scatter( df_Asia['GDP_per_pop'],df_Asia['sequenced_per_mn'],color='#CCBB44',lw=l,alpha=alpha,edgecolors='black')\n",
    "plt.scatter(df_Africa['GDP_per_pop'],df_Africa['sequenced_per_mn'],color='#BBBBBB',lw=l,alpha=alpha,edgecolors='black')\n",
    "plt.scatter(df_SA['GDP_per_pop'], df_SA['sequenced_per_mn'],color='#66CCEE',lw=l,alpha=alpha,edgecolors='black')\n",
    "plt.scatter(df_NA['GDP_per_pop'],df_NA['sequenced_per_mn'],color='#AA3377',lw=l,alpha=alpha,edgecolors='black')\n",
    "plt.scatter( df_Oceania['GDP_per_pop'],df_Oceania['sequenced_per_mn'],color='#4477AA',lw=l,alpha=alpha,edgecolors='black')\n",
    "up = (1,1.4)\n",
    "down = (1,0.6)\n",
    "right = (1.6,1)\n",
    "left = (0.65,1)\n",
    "center = (1,1)\n",
    "ctr_d_xy = {'Denmark':up, 'Iceland':left, 'Luxembourg':up, 'United Kingdom':(0.8,1.6), 'Switzerland':right,\"Sweden\":up,\"Austria\":left,\n",
    "           'Ireland':right, 'Norway':(1.5,0.9), 'USA':(1.4,1), 'Slovenia':up, 'Latvia':up,\n",
    "           'Canada':(0.72,0.87), 'Singapore':(1.6,0.75),\"Belize\":left, \"Fiji\":left,\"Dijbouti\":left,\n",
    "            'Gambia':up, 'North Macedonia':up,\n",
    "           \"Cambodia\":left, 'Mali':up, 'Uganda':up, 'Ethiopia':up, 'Venezuela':down,\n",
    "           'Afghanistan':up, 'Sierra Leone': up, 'Mozambique':up,  'Madagascar':left,\n",
    "           'Rwanda':(0.7,1),  'Algeria':down, 'Albania':down, 'Nepal':(1.5,1), 'China':down,\n",
    "           'Croatia':left, 'Kuwait':down, 'Taiwan':right, 'Bulgaria':right, 'India':center,\n",
    "           'Kazakhstan':(1.6,1.3),  'Jordan':(0.7,0.8), 'Suriname':(0.6,1),\n",
    "           'South Africa':(0.5,1), \"Brunei\":(1.1,1.5), 'Peru':center,\n",
    "           'New Zealand':(1.7,0.5),\"Niger\":down, \"Chad\":down,\"Ethopia\":left,\"Haiti\":left,\"Somalia\":left,\"Kyrgyzstan\":down,\"Uzbekistan\":down\n",
    "           ,'Moroco': center,\"Lenanon\":left,\"Dijbouti\":left,\"Uruguay\":left,\"Oman\":right,\"Russia\":right,\"Iran\":(1.4,1)\n",
    "           ,\"Belarus\":left,\"Lithuania\":left,\"Seychelles\":left,\"Djibouti\":left,\"Lebanon\":left}\n",
    "for i, txt in enumerate(df_merged2.Country):\n",
    "    dx = 1\n",
    "    dy = 1\n",
    "    if txt in ctr_d_xy: \n",
    "        dx, dy = (1,1.6) if ctr_d_xy[txt] is None else ctr_d_xy[txt]\n",
    "        plt.annotate(txt,(df_merged2.GDP_per_pop[i]*dx,df_merged2.sequenced_per_mn[i]*dy), textcoords=\"offset points\",xytext=(0,0.02),ha='center',fontsize=2)\n",
    "\n",
    "plt.yscale('log')\n",
    "plt.xscale('log')\n",
    "plt.gcf().set_size_inches(2.416, 2.458)\n",
    "\n",
    "plt.ylabel('SARS-CoV-2 genomes per 1M population')\n",
    "plt.xlabel('GDP per capita')\n",
    "\n",
    "plt.tight_layout()\n",
    "\n",
    "\n",
    "\n",
    "labels=[\"Europe\",\"Asia\",\"Africa\",\"South America\",\"North America\",\"Oceania\"]\n",
    "lgnd=ax.legend(labels,loc=\"upper left\", prop={'size': 3.9},edgecolor=\"white\",fontsize=4.5)\n",
    "\n",
    "plt.ylim(0.2,100000)\n",
    "plt.xlim(100,200000)\n",
    "\n",
    "plt.savefig('gdp_sequenced_pop.png', dpi=600, bbox_inches = \"tight\")\n",
    "# plt.savefig('gdp_sequenced_pop.pdf', dpi=300, bbox_inches = \"tight\")\n",
    "plt.show()"
   ]
  },
  {
   "cell_type": "code",
   "execution_count": 44,
   "metadata": {},
   "outputs": [
    {
     "data": {
      "image/png": "[encoded data removed]",
      "text/plain": [
       "<Figure size 173.952x176.976 with 1 Axes>"
      ]
     },
     "metadata": {
      "needs_background": "light"
     },
     "output_type": "display_data"
    }
   ],
   "source": [
    "import math\n",
    "import matplotlib.pyplot as plt\n",
    "# fig = plt.figure()\n",
    "# ax = fig.add_subplot(111)\n",
    "# plt.rcParams[\"font.family\"] = \"Helvetica\"\n",
    "# plt.rc('ytick', labelsize=4.5) \n",
    "# plt.rc('xtick', labelsize=4.5) \n",
    "# plt.rc('axes', titlesize=5.5)\n",
    "# plt.rc('axes', labelsize=5.5)\n",
    "\n",
    "alpha=0.7\n",
    "\n",
    "plt.scatter( df_Asia['GDP_per_pop'],df_Asia['sequenced_per_mnpop'],color='#CCBB44',lw=0.5,alpha=alpha, edgecolors='black')\n",
    "plt.scatter( df_Oceania['GDP_per_pop'],df_Oceania['sequenced_per_mnpop'],color='#4477AA',lw=0.5,alpha=alpha,edgecolors='black')\n",
    "plt.scatter(df_NA['GDP_per_pop'],df_NA['sequenced_per_mnpop'],color='#AA3377',lw=0.5,alpha=alpha,edgecolors='black')\n",
    "plt.scatter(df_SA['GDP_per_pop'], df_SA['sequenced_per_mnpop'],color='#66CCEE',lw=0.5,alpha=alpha,edgecolors='black')\n",
    "plt.scatter( df_Europe['GDP_per_pop'],df_Europe['sequenced_per_mnpop'],color='#EE6677',lw=0.5,alpha=alpha,edgecolors='black')\n",
    "plt.scatter(df_Africa['GDP_per_pop'],df_Africa['sequenced_per_mnpop'],color='#BBBBBB',lw=0.5,alpha=alpha,edgecolors='black')\n",
    "for i, txt in enumerate(df_merged2.Country):\n",
    "    plt.annotate(txt,(df_merged2.GDP_per_pop[i],df_merged2.sequenced_per_mnpop[i]), textcoords=\"offset points\",xytext=(0,0.02),ha='center',fontsize=2)\n",
    "\n",
    "    \n",
    "plt.yscale('log')\n",
    "plt.xscale('log')\n",
    "# plt.gcf().set_size_inches(2.416, 2.458)\n",
    "plt.gcf().set_size_inches(2.416, 2.458)\n",
    "plt.ylabel('SARS-Cov-2 genomes per 1M population')\n",
    "plt.xlabel('GDP per capita')\n",
    "\n",
    "plt.tight_layout()\n",
    "\n",
    "\n",
    "\n",
    "labels=[\"Asia\",\"Oceania\",\"North America\",\"South America\",\"Europe\",\"Africa\"]\n",
    "# lgnd=ax.legend(labels,loc=\"upper left\", prop={'size': 4.5},edgecolor=\"white\",fontsize=4.5)\n",
    "lgnd=ax.legend(labels,loc=\"upper left\", prop={'size': 4.5},edgecolor=\"white\",fontsize=4.5,framealpha=0)\n",
    "for handle in lgnd.legendHandles:\n",
    "    handle.set_sizes([20.0])\n",
    "# plt.ylim(0.01,100000)\n",
    "# plt.xlim(300,200000)\n",
    "\n",
    "# plt.ylim(0.00000001,0.0025)\n",
    "# plt.xlim(350,200000)\n",
    "plt.grid(linewidth=0.3,color=\"#DDDDDD\")\n",
    "# # plt.tight_layout()\n",
    "plt.savefig('gdp_sequenced_lab.png', dpi=600, bbox_inches = \"tight\")\n",
    "# plt.savefig('gdp_sequenced.pdf', dpi=300, bbox_inches = \"tight\")\n",
    "plt.show()"
   ]
  },
  {
   "cell_type": "code",
   "execution_count": 45,
   "metadata": {},
   "outputs": [
    {
     "data": {
      "text/plain": [
       "2.457735147906501e-05"
      ]
     },
     "execution_count": 45,
     "metadata": {},
     "output_type": "execute_result"
    }
   ],
   "source": [
    "(min(df_merged2[\"sequenced_per_cases\"]))"
   ]
  },
  {
   "cell_type": "code",
   "execution_count": 46,
   "metadata": {},
   "outputs": [
    {
     "data": {
      "text/plain": [
       "0.4706558161799904"
      ]
     },
     "execution_count": 46,
     "metadata": {},
     "output_type": "execute_result"
    }
   ],
   "source": [
    "(max(df_merged2[\"sequenced_per_cases\"]))"
   ]
  },
  {
   "cell_type": "code",
   "execution_count": 47,
   "metadata": {},
   "outputs": [
    {
     "data": {
      "text/plain": [
       "724.8"
      ]
     },
     "execution_count": 47,
     "metadata": {},
     "output_type": "execute_result"
    }
   ],
   "source": [
    "2.416*300"
   ]
  },
  {
   "cell_type": "markdown",
   "metadata": {},
   "source": [
    "# Figure 1e"
   ]
  },
  {
   "cell_type": "code",
   "execution_count": 48,
   "metadata": {},
   "outputs": [
    {
     "data": {
      "text/html": [
       "<div>\n",
       "<style scoped>\n",
       "    .dataframe tbody tr th:only-of-type {\n",
       "        vertical-align: middle;\n",
       "    }\n",
       "\n",
       "    .dataframe tbody tr th {\n",
       "        vertical-align: top;\n",
       "    }\n",
       "\n",
       "    .dataframe thead th {\n",
       "        text-align: right;\n",
       "    }\n",
       "</style>\n",
       "<table border=\"1\" class=\"dataframe\">\n",
       "  <thead>\n",
       "    <tr style=\"text-align: right;\">\n",
       "      <th></th>\n",
       "      <th>Country</th>\n",
       "      <th>GDP_per_min</th>\n",
       "      <th>GDP</th>\n",
       "      <th>sequenced</th>\n",
       "      <th>Total_Cases</th>\n",
       "      <th>Continent</th>\n",
       "      <th>Population</th>\n",
       "      <th>cases_per_pop</th>\n",
       "      <th>sequenced_per_pop</th>\n",
       "      <th>sequenced_per_mn</th>\n",
       "      <th>GDP_per_pop</th>\n",
       "      <th>sequenced_per_cases</th>\n",
       "      <th>sequenced_per_mnpop</th>\n",
       "    </tr>\n",
       "  </thead>\n",
       "  <tbody>\n",
       "    <tr>\n",
       "      <th>0</th>\n",
       "      <td>China</td>\n",
       "      <td>14,860,775</td>\n",
       "      <td>14860775000000</td>\n",
       "      <td>1365</td>\n",
       "      <td>129678</td>\n",
       "      <td>Asia</td>\n",
       "      <td>1439323776</td>\n",
       "      <td>0.000090</td>\n",
       "      <td>9.483620e-07</td>\n",
       "      <td>0.948362</td>\n",
       "      <td>10324.831180</td>\n",
       "      <td>0.010526</td>\n",
       "      <td>0.948362</td>\n",
       "    </tr>\n",
       "    <tr>\n",
       "      <th>1</th>\n",
       "      <td>Japan</td>\n",
       "      <td>4,910,580</td>\n",
       "      <td>4910580000000</td>\n",
       "      <td>180815</td>\n",
       "      <td>1729777</td>\n",
       "      <td>Asia</td>\n",
       "      <td>126205207</td>\n",
       "      <td>0.013706</td>\n",
       "      <td>1.432706e-03</td>\n",
       "      <td>1432.706338</td>\n",
       "      <td>38909.488101</td>\n",
       "      <td>0.104531</td>\n",
       "      <td>1432.706338</td>\n",
       "    </tr>\n",
       "    <tr>\n",
       "      <th>2</th>\n",
       "      <td>Germany</td>\n",
       "      <td>3,780,553</td>\n",
       "      <td>3780553000000</td>\n",
       "      <td>308516</td>\n",
       "      <td>6809622</td>\n",
       "      <td>Europe</td>\n",
       "      <td>83971144</td>\n",
       "      <td>0.081095</td>\n",
       "      <td>3.674072e-03</td>\n",
       "      <td>3674.071655</td>\n",
       "      <td>45022.049479</td>\n",
       "      <td>0.045306</td>\n",
       "      <td>3674.071655</td>\n",
       "    </tr>\n",
       "    <tr>\n",
       "      <th>3</th>\n",
       "      <td>India</td>\n",
       "      <td>2,592,583</td>\n",
       "      <td>2592583000000</td>\n",
       "      <td>95696</td>\n",
       "      <td>34746838</td>\n",
       "      <td>Asia</td>\n",
       "      <td>1389456823</td>\n",
       "      <td>0.025007</td>\n",
       "      <td>6.887296e-05</td>\n",
       "      <td>68.872957</td>\n",
       "      <td>1865.896771</td>\n",
       "      <td>0.002754</td>\n",
       "      <td>68.872957</td>\n",
       "    </tr>\n",
       "    <tr>\n",
       "      <th>4</th>\n",
       "      <td>France</td>\n",
       "      <td>2,551,451</td>\n",
       "      <td>2551451000000</td>\n",
       "      <td>165992</td>\n",
       "      <td>8625849</td>\n",
       "      <td>Europe</td>\n",
       "      <td>65374481</td>\n",
       "      <td>0.131945</td>\n",
       "      <td>2.539095e-03</td>\n",
       "      <td>2539.094727</td>\n",
       "      <td>39028.241004</td>\n",
       "      <td>0.019244</td>\n",
       "      <td>2539.094727</td>\n",
       "    </tr>\n",
       "    <tr>\n",
       "      <th>...</th>\n",
       "      <td>...</td>\n",
       "      <td>...</td>\n",
       "      <td>...</td>\n",
       "      <td>...</td>\n",
       "      <td>...</td>\n",
       "      <td>...</td>\n",
       "      <td>...</td>\n",
       "      <td>...</td>\n",
       "      <td>...</td>\n",
       "      <td>...</td>\n",
       "      <td>...</td>\n",
       "      <td>...</td>\n",
       "      <td>...</td>\n",
       "    </tr>\n",
       "    <tr>\n",
       "      <th>122</th>\n",
       "      <td>Gambia</td>\n",
       "      <td>1,806</td>\n",
       "      <td>1806000000</td>\n",
       "      <td>948</td>\n",
       "      <td>10051</td>\n",
       "      <td>Africa</td>\n",
       "      <td>2463536</td>\n",
       "      <td>0.004080</td>\n",
       "      <td>3.848127e-04</td>\n",
       "      <td>384.812724</td>\n",
       "      <td>733.092595</td>\n",
       "      <td>0.094319</td>\n",
       "      <td>384.812724</td>\n",
       "    </tr>\n",
       "    <tr>\n",
       "      <th>123</th>\n",
       "      <td>Belize</td>\n",
       "      <td>1,556</td>\n",
       "      <td>1556000000</td>\n",
       "      <td>321</td>\n",
       "      <td>31246</td>\n",
       "      <td>North America</td>\n",
       "      <td>402637</td>\n",
       "      <td>0.077603</td>\n",
       "      <td>7.972442e-04</td>\n",
       "      <td>797.244168</td>\n",
       "      <td>3864.523131</td>\n",
       "      <td>0.010273</td>\n",
       "      <td>797.244168</td>\n",
       "    </tr>\n",
       "    <tr>\n",
       "      <th>124</th>\n",
       "      <td>Seychelles</td>\n",
       "      <td>1,198</td>\n",
       "      <td>1198000000</td>\n",
       "      <td>543</td>\n",
       "      <td>24128</td>\n",
       "      <td>Africa</td>\n",
       "      <td>98772</td>\n",
       "      <td>0.244280</td>\n",
       "      <td>5.497509e-03</td>\n",
       "      <td>5497.509416</td>\n",
       "      <td>12128.943425</td>\n",
       "      <td>0.022505</td>\n",
       "      <td>5497.509416</td>\n",
       "    </tr>\n",
       "    <tr>\n",
       "      <th>125</th>\n",
       "      <td>Grenada</td>\n",
       "      <td>1,074</td>\n",
       "      <td>1074000000</td>\n",
       "      <td>12</td>\n",
       "      <td>5919</td>\n",
       "      <td>North America</td>\n",
       "      <td>112887</td>\n",
       "      <td>0.052433</td>\n",
       "      <td>1.063010e-04</td>\n",
       "      <td>106.300991</td>\n",
       "      <td>9513.938717</td>\n",
       "      <td>0.002027</td>\n",
       "      <td>106.300991</td>\n",
       "    </tr>\n",
       "    <tr>\n",
       "      <th>126</th>\n",
       "      <td>Dominica</td>\n",
       "      <td>545</td>\n",
       "      <td>545000000</td>\n",
       "      <td>9</td>\n",
       "      <td>6430</td>\n",
       "      <td>North America</td>\n",
       "      <td>72111</td>\n",
       "      <td>0.089168</td>\n",
       "      <td>1.248076e-04</td>\n",
       "      <td>124.807588</td>\n",
       "      <td>7557.792847</td>\n",
       "      <td>0.001400</td>\n",
       "      <td>124.807588</td>\n",
       "    </tr>\n",
       "  </tbody>\n",
       "</table>\n",
       "<p>127 rows × 13 columns</p>\n",
       "</div>"
      ],
      "text/plain": [
       "        Country GDP_per_min             GDP  sequenced  Total_Cases  \\\n",
       "0         China  14,860,775  14860775000000       1365       129678   \n",
       "1         Japan   4,910,580   4910580000000     180815      1729777   \n",
       "2       Germany   3,780,553   3780553000000     308516      6809622   \n",
       "3         India   2,592,583   2592583000000      95696     34746838   \n",
       "4        France   2,551,451   2551451000000     165992      8625849   \n",
       "..          ...         ...             ...        ...          ...   \n",
       "122      Gambia       1,806      1806000000        948        10051   \n",
       "123      Belize       1,556      1556000000        321        31246   \n",
       "124  Seychelles       1,198      1198000000        543        24128   \n",
       "125     Grenada       1,074      1074000000         12         5919   \n",
       "126    Dominica         545       545000000          9         6430   \n",
       "\n",
       "         Continent  Population  cases_per_pop  sequenced_per_pop  \\\n",
       "0             Asia  1439323776       0.000090       9.483620e-07   \n",
       "1             Asia   126205207       0.013706       1.432706e-03   \n",
       "2           Europe    83971144       0.081095       3.674072e-03   \n",
       "3             Asia  1389456823       0.025007       6.887296e-05   \n",
       "4           Europe    65374481       0.131945       2.539095e-03   \n",
       "..             ...         ...            ...                ...   \n",
       "122         Africa     2463536       0.004080       3.848127e-04   \n",
       "123  North America      402637       0.077603       7.972442e-04   \n",
       "124         Africa       98772       0.244280       5.497509e-03   \n",
       "125  North America      112887       0.052433       1.063010e-04   \n",
       "126  North America       72111       0.089168       1.248076e-04   \n",
       "\n",
       "     sequenced_per_mn   GDP_per_pop  sequenced_per_cases  sequenced_per_mnpop  \n",
       "0            0.948362  10324.831180             0.010526             0.948362  \n",
       "1         1432.706338  38909.488101             0.104531          1432.706338  \n",
       "2         3674.071655  45022.049479             0.045306          3674.071655  \n",
       "3           68.872957   1865.896771             0.002754            68.872957  \n",
       "4         2539.094727  39028.241004             0.019244          2539.094727  \n",
       "..                ...           ...                  ...                  ...  \n",
       "122        384.812724    733.092595             0.094319           384.812724  \n",
       "123        797.244168   3864.523131             0.010273           797.244168  \n",
       "124       5497.509416  12128.943425             0.022505          5497.509416  \n",
       "125        106.300991   9513.938717             0.002027           106.300991  \n",
       "126        124.807588   7557.792847             0.001400           124.807588  \n",
       "\n",
       "[127 rows x 13 columns]"
      ]
     },
     "execution_count": 48,
     "metadata": {},
     "output_type": "execute_result"
    }
   ],
   "source": [
    "df_merged2"
   ]
  },
  {
   "cell_type": "code",
   "execution_count": 49,
   "metadata": {},
   "outputs": [],
   "source": [
    "medians = df_merged2.groupby([\"Continent\"])[\"sequenced_per_mn\"].median()"
   ]
  },
  {
   "cell_type": "code",
   "execution_count": 50,
   "metadata": {},
   "outputs": [
    {
     "data": {
      "text/plain": [
       "Continent\n",
       " Asia              11.196417\n",
       "Africa             29.096084\n",
       "Asia               83.989045\n",
       "Europe           2405.321259\n",
       "North America     124.807588\n",
       "Oceania          1241.469218\n",
       "South America     207.336609\n",
       "Name: sequenced_per_mn, dtype: float64"
      ]
     },
     "execution_count": 50,
     "metadata": {},
     "output_type": "execute_result"
    }
   ],
   "source": [
    "medians"
   ]
  },
  {
   "cell_type": "code",
   "execution_count": 51,
   "metadata": {},
   "outputs": [
    {
     "name": "stderr",
     "output_type": "stream",
     "text": [
      "/var/folders/q9/26n4cqmn2jq2ldd84q1459cm0000gn/T/ipykernel_11233/1080838208.py:1: FutureWarning: Dropping of nuisance columns in DataFrame reductions (with 'numeric_only=None') is deprecated; in a future version this will raise TypeError.  Select only valid columns before calling the reduction.\n",
      "  df_merged2.median().sort_values().index\n"
     ]
    },
    {
     "data": {
      "text/plain": [
       "Index(['sequenced_per_pop', 'sequenced_per_cases', 'cases_per_pop',\n",
       "       'sequenced_per_mn', 'sequenced_per_mnpop', 'sequenced', 'GDP_per_pop',\n",
       "       'Total_Cases', 'Population', 'GDP'],\n",
       "      dtype='object')"
      ]
     },
     "execution_count": 51,
     "metadata": {},
     "output_type": "execute_result"
    }
   ],
   "source": [
    "df_merged2.median().sort_values().index "
   ]
  },
  {
   "cell_type": "code",
   "execution_count": 52,
   "metadata": {},
   "outputs": [],
   "source": [
    "df_merged2.to_csv(\"test.csv\")"
   ]
  },
  {
   "cell_type": "code",
   "execution_count": 53,
   "metadata": {},
   "outputs": [
    {
     "data": {
      "image/png": "[encoded data removed]",
      "text/plain": [
       "<Figure size 864x576 with 1 Axes>"
      ]
     },
     "metadata": {},
     "output_type": "display_data"
    }
   ],
   "source": [
    "import seaborn as sns\n",
    "# boxprops=dict(alpha=.3)\n",
    "from matplotlib import rcParams\n",
    "rcParams['figure.figsize'] = 12,8\n",
    "sns.set(font_scale = 1.5)\n",
    "sns.set_style(\"white\")\n",
    "tips = sns.load_dataset(\"tips\")\n",
    "flierprops = dict(marker='o', markerfacecolor='white',\n",
    "                  linestyle='none', markeredgecolor='black',alpha=0.5,markersize=5)\n",
    "my_pal = {\"Oceania\":\"#4477AA\",\"Europe\": \"#EE6677\", \"Africa\": \"#BBBBBB\", \"Asia\":\"#CCBB44\",\"North America\":\"#AA3377\",\"South America\":\"#66CCEE\"}\n",
    "ax = sns.boxplot(x=\"Continent\",y=\"sequenced_per_mn\", palette=my_pal, boxprops=dict(alpha=.6),data=df_merged2,flierprops=flierprops,order=[\"Oceania\",\"Europe\",\"North America\",\"South America\",\"Asia\",\"Africa\"])\n",
    "\n",
    "ax.set_yscale('log')\n",
    "\n",
    "\n",
    "\n",
    "ax = sns.swarmplot(x=\"Continent\",y=\"sequenced_per_mn\",  data=df_merged2, color=\"white\",size=5,alpha=0.5, edgecolor=\"black\",linewidth=1,marker='o',order=[\"Oceania\",\"Europe\",\"North America\",\"South America\",\"Asia\",\"Africa\"])\n",
    "\n",
    "ax.set(xlabel='Continent', ylabel='Genomes sequenced per 1 million people')\n",
    "# ax.set_xlabel('Continent',fontsize=20);\n",
    "# ax.set_ylabel('Cases per population',fontsize=20);\n",
    "# figure.savefig('full_figure.png')\n",
    "ax.figure.savefig('box_continent_seq.png')"
   ]
  },
  {
   "cell_type": "code",
   "execution_count": 54,
   "metadata": {},
   "outputs": [
    {
     "data": {
      "text/html": [
       "<div>\n",
       "<style scoped>\n",
       "    .dataframe tbody tr th:only-of-type {\n",
       "        vertical-align: middle;\n",
       "    }\n",
       "\n",
       "    .dataframe tbody tr th {\n",
       "        vertical-align: top;\n",
       "    }\n",
       "\n",
       "    .dataframe thead th {\n",
       "        text-align: right;\n",
       "    }\n",
       "</style>\n",
       "<table border=\"1\" class=\"dataframe\">\n",
       "  <thead>\n",
       "    <tr style=\"text-align: right;\">\n",
       "      <th></th>\n",
       "      <th>Country</th>\n",
       "      <th>GDP_per_min</th>\n",
       "      <th>GDP</th>\n",
       "      <th>sequenced</th>\n",
       "      <th>Total_Cases</th>\n",
       "      <th>Continent</th>\n",
       "      <th>Population</th>\n",
       "      <th>cases_per_pop</th>\n",
       "      <th>sequenced_per_pop</th>\n",
       "      <th>sequenced_per_mn</th>\n",
       "      <th>GDP_per_pop</th>\n",
       "      <th>sequenced_per_cases</th>\n",
       "      <th>sequenced_per_mnpop</th>\n",
       "    </tr>\n",
       "  </thead>\n",
       "  <tbody>\n",
       "    <tr>\n",
       "      <th>0</th>\n",
       "      <td>China</td>\n",
       "      <td>14,860,775</td>\n",
       "      <td>14860775000000</td>\n",
       "      <td>1365</td>\n",
       "      <td>129678</td>\n",
       "      <td>Asia</td>\n",
       "      <td>1439323776</td>\n",
       "      <td>0.000090</td>\n",
       "      <td>9.483620e-07</td>\n",
       "      <td>0.948362</td>\n",
       "      <td>10324.831180</td>\n",
       "      <td>0.010526</td>\n",
       "      <td>0.948362</td>\n",
       "    </tr>\n",
       "    <tr>\n",
       "      <th>1</th>\n",
       "      <td>Japan</td>\n",
       "      <td>4,910,580</td>\n",
       "      <td>4910580000000</td>\n",
       "      <td>180815</td>\n",
       "      <td>1729777</td>\n",
       "      <td>Asia</td>\n",
       "      <td>126205207</td>\n",
       "      <td>0.013706</td>\n",
       "      <td>1.432706e-03</td>\n",
       "      <td>1432.706338</td>\n",
       "      <td>38909.488101</td>\n",
       "      <td>0.104531</td>\n",
       "      <td>1432.706338</td>\n",
       "    </tr>\n",
       "    <tr>\n",
       "      <th>2</th>\n",
       "      <td>Germany</td>\n",
       "      <td>3,780,553</td>\n",
       "      <td>3780553000000</td>\n",
       "      <td>308516</td>\n",
       "      <td>6809622</td>\n",
       "      <td>Europe</td>\n",
       "      <td>83971144</td>\n",
       "      <td>0.081095</td>\n",
       "      <td>3.674072e-03</td>\n",
       "      <td>3674.071655</td>\n",
       "      <td>45022.049479</td>\n",
       "      <td>0.045306</td>\n",
       "      <td>3674.071655</td>\n",
       "    </tr>\n",
       "    <tr>\n",
       "      <th>3</th>\n",
       "      <td>India</td>\n",
       "      <td>2,592,583</td>\n",
       "      <td>2592583000000</td>\n",
       "      <td>95696</td>\n",
       "      <td>34746838</td>\n",
       "      <td>Asia</td>\n",
       "      <td>1389456823</td>\n",
       "      <td>0.025007</td>\n",
       "      <td>6.887296e-05</td>\n",
       "      <td>68.872957</td>\n",
       "      <td>1865.896771</td>\n",
       "      <td>0.002754</td>\n",
       "      <td>68.872957</td>\n",
       "    </tr>\n",
       "    <tr>\n",
       "      <th>4</th>\n",
       "      <td>France</td>\n",
       "      <td>2,551,451</td>\n",
       "      <td>2551451000000</td>\n",
       "      <td>165992</td>\n",
       "      <td>8625849</td>\n",
       "      <td>Europe</td>\n",
       "      <td>65374481</td>\n",
       "      <td>0.131945</td>\n",
       "      <td>2.539095e-03</td>\n",
       "      <td>2539.094727</td>\n",
       "      <td>39028.241004</td>\n",
       "      <td>0.019244</td>\n",
       "      <td>2539.094727</td>\n",
       "    </tr>\n",
       "    <tr>\n",
       "      <th>...</th>\n",
       "      <td>...</td>\n",
       "      <td>...</td>\n",
       "      <td>...</td>\n",
       "      <td>...</td>\n",
       "      <td>...</td>\n",
       "      <td>...</td>\n",
       "      <td>...</td>\n",
       "      <td>...</td>\n",
       "      <td>...</td>\n",
       "      <td>...</td>\n",
       "      <td>...</td>\n",
       "      <td>...</td>\n",
       "      <td>...</td>\n",
       "    </tr>\n",
       "    <tr>\n",
       "      <th>122</th>\n",
       "      <td>Gambia</td>\n",
       "      <td>1,806</td>\n",
       "      <td>1806000000</td>\n",
       "      <td>948</td>\n",
       "      <td>10051</td>\n",
       "      <td>Africa</td>\n",
       "      <td>2463536</td>\n",
       "      <td>0.004080</td>\n",
       "      <td>3.848127e-04</td>\n",
       "      <td>384.812724</td>\n",
       "      <td>733.092595</td>\n",
       "      <td>0.094319</td>\n",
       "      <td>384.812724</td>\n",
       "    </tr>\n",
       "    <tr>\n",
       "      <th>123</th>\n",
       "      <td>Belize</td>\n",
       "      <td>1,556</td>\n",
       "      <td>1556000000</td>\n",
       "      <td>321</td>\n",
       "      <td>31246</td>\n",
       "      <td>North America</td>\n",
       "      <td>402637</td>\n",
       "      <td>0.077603</td>\n",
       "      <td>7.972442e-04</td>\n",
       "      <td>797.244168</td>\n",
       "      <td>3864.523131</td>\n",
       "      <td>0.010273</td>\n",
       "      <td>797.244168</td>\n",
       "    </tr>\n",
       "    <tr>\n",
       "      <th>124</th>\n",
       "      <td>Seychelles</td>\n",
       "      <td>1,198</td>\n",
       "      <td>1198000000</td>\n",
       "      <td>543</td>\n",
       "      <td>24128</td>\n",
       "      <td>Africa</td>\n",
       "      <td>98772</td>\n",
       "      <td>0.244280</td>\n",
       "      <td>5.497509e-03</td>\n",
       "      <td>5497.509416</td>\n",
       "      <td>12128.943425</td>\n",
       "      <td>0.022505</td>\n",
       "      <td>5497.509416</td>\n",
       "    </tr>\n",
       "    <tr>\n",
       "      <th>125</th>\n",
       "      <td>Grenada</td>\n",
       "      <td>1,074</td>\n",
       "      <td>1074000000</td>\n",
       "      <td>12</td>\n",
       "      <td>5919</td>\n",
       "      <td>North America</td>\n",
       "      <td>112887</td>\n",
       "      <td>0.052433</td>\n",
       "      <td>1.063010e-04</td>\n",
       "      <td>106.300991</td>\n",
       "      <td>9513.938717</td>\n",
       "      <td>0.002027</td>\n",
       "      <td>106.300991</td>\n",
       "    </tr>\n",
       "    <tr>\n",
       "      <th>126</th>\n",
       "      <td>Dominica</td>\n",
       "      <td>545</td>\n",
       "      <td>545000000</td>\n",
       "      <td>9</td>\n",
       "      <td>6430</td>\n",
       "      <td>North America</td>\n",
       "      <td>72111</td>\n",
       "      <td>0.089168</td>\n",
       "      <td>1.248076e-04</td>\n",
       "      <td>124.807588</td>\n",
       "      <td>7557.792847</td>\n",
       "      <td>0.001400</td>\n",
       "      <td>124.807588</td>\n",
       "    </tr>\n",
       "  </tbody>\n",
       "</table>\n",
       "<p>127 rows × 13 columns</p>\n",
       "</div>"
      ],
      "text/plain": [
       "        Country GDP_per_min             GDP  sequenced  Total_Cases  \\\n",
       "0         China  14,860,775  14860775000000       1365       129678   \n",
       "1         Japan   4,910,580   4910580000000     180815      1729777   \n",
       "2       Germany   3,780,553   3780553000000     308516      6809622   \n",
       "3         India   2,592,583   2592583000000      95696     34746838   \n",
       "4        France   2,551,451   2551451000000     165992      8625849   \n",
       "..          ...         ...             ...        ...          ...   \n",
       "122      Gambia       1,806      1806000000        948        10051   \n",
       "123      Belize       1,556      1556000000        321        31246   \n",
       "124  Seychelles       1,198      1198000000        543        24128   \n",
       "125     Grenada       1,074      1074000000         12         5919   \n",
       "126    Dominica         545       545000000          9         6430   \n",
       "\n",
       "         Continent  Population  cases_per_pop  sequenced_per_pop  \\\n",
       "0             Asia  1439323776       0.000090       9.483620e-07   \n",
       "1             Asia   126205207       0.013706       1.432706e-03   \n",
       "2           Europe    83971144       0.081095       3.674072e-03   \n",
       "3             Asia  1389456823       0.025007       6.887296e-05   \n",
       "4           Europe    65374481       0.131945       2.539095e-03   \n",
       "..             ...         ...            ...                ...   \n",
       "122         Africa     2463536       0.004080       3.848127e-04   \n",
       "123  North America      402637       0.077603       7.972442e-04   \n",
       "124         Africa       98772       0.244280       5.497509e-03   \n",
       "125  North America      112887       0.052433       1.063010e-04   \n",
       "126  North America       72111       0.089168       1.248076e-04   \n",
       "\n",
       "     sequenced_per_mn   GDP_per_pop  sequenced_per_cases  sequenced_per_mnpop  \n",
       "0            0.948362  10324.831180             0.010526             0.948362  \n",
       "1         1432.706338  38909.488101             0.104531          1432.706338  \n",
       "2         3674.071655  45022.049479             0.045306          3674.071655  \n",
       "3           68.872957   1865.896771             0.002754            68.872957  \n",
       "4         2539.094727  39028.241004             0.019244          2539.094727  \n",
       "..                ...           ...                  ...                  ...  \n",
       "122        384.812724    733.092595             0.094319           384.812724  \n",
       "123        797.244168   3864.523131             0.010273           797.244168  \n",
       "124       5497.509416  12128.943425             0.022505          5497.509416  \n",
       "125        106.300991   9513.938717             0.002027           106.300991  \n",
       "126        124.807588   7557.792847             0.001400           124.807588  \n",
       "\n",
       "[127 rows x 13 columns]"
      ]
     },
     "execution_count": 54,
     "metadata": {},
     "output_type": "execute_result"
    }
   ],
   "source": [
    "df_merged2"
   ]
  },
  {
   "cell_type": "code",
   "execution_count": 55,
   "metadata": {},
   "outputs": [
    {
     "data": {
      "image/png": "[encoded data removed]",
      "text/plain": [
       "<Figure size 864x576 with 1 Axes>"
      ]
     },
     "metadata": {},
     "output_type": "display_data"
    }
   ],
   "source": [
    "sns.set(font_scale = 1.5)\n",
    "sns.set_style(\"white\")\n",
    "flierprops = dict(marker='o', markerfacecolor='white',\n",
    "                  linestyle='none', markeredgecolor='black',alpha=0.5,markersize=5)\n",
    "my_pal = {\"High\":\"#4477AA\",\"Upper Middle\": \"#EE6677\", \"Lower Middle\": \"#BBBBBB\", \"Low\":\"#CCBB44\"}\n",
    "ax = sns.boxplot(x=\"Income Category\", y=\"sequenced_per_mn\",  data=df_merged3, palette=my_pal,boxprops=dict(alpha=.6),flierprops=flierprops,order=[\"High\",\"Upper Middle\",\"Lower Middle\",\"Low\"])\n",
    "# ax = sns.violinplot(x=\"Income Category\", y=\"sequenced_per_pop\",  data=df_merged3,scale='count')\n",
    "ax.set(xlabel='Income Range', ylabel='Genomes sequenced per population')\n",
    "ax.set_yscale('log')\n",
    "\n",
    "ax = sns.swarmplot(x=\"Income Category\", y=\"sequenced_per_mn\", data=df_merged3, color=\"white\",size=5,alpha=0.5, edgecolor=\"black\",linewidth=1,marker='o',order=[\"High\",\"Upper Middle\",\"Lower Middle\",\"Low\"])\n",
    "ax.set(xlabel='Income Category', ylabel='Genomes sequenced per 1 million people')\n",
    "# figure.savefig('full_figure.png')\n",
    "ax.figure.savefig('box_income_seq.png')\n",
    "\n"
   ]
  },
  {
   "cell_type": "code",
   "execution_count": null,
   "metadata": {},
   "outputs": [],
   "source": []
  }
 ],
 "metadata": {
  "kernelspec": {
   "display_name": "Python 3 (ipykernel)",
   "language": "python",
   "name": "python3"
  },
  "language_info": {
   "codemirror_mode": {
    "name": "ipython",
    "version": 3
   },
   "file_extension": ".py",
   "mimetype": "text/x-python",
   "name": "python",
   "nbconvert_exporter": "python",
   "pygments_lexer": "ipython3",
   "version": "3.8.5"
  }
 },
 "nbformat": 4,
 "nbformat_minor": 4
}
